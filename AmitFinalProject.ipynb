{
  "nbformat": 4,
  "nbformat_minor": 0,
  "metadata": {
    "colab": {
      "provenance": []
    },
    "kernelspec": {
      "name": "python3",
      "display_name": "Python 3"
    },
    "language_info": {
      "name": "python"
    }
  },
  "cells": [
    {
      "cell_type": "code",
      "execution_count": 1,
      "metadata": {
        "id": "1TfEKHJui4Xt"
      },
      "outputs": [],
      "source": [
        "import pandas as pd\n",
        "import numpy as np\n",
        "import tensorflow as tf\n",
        "import matplotlib.pyplot as plt\n",
        "import plotly.express as px"
      ]
    },
    {
      "cell_type": "markdown",
      "source": [
        "# **Dataset**"
      ],
      "metadata": {
        "id": "0yTrYu55HtEV"
      }
    },
    {
      "cell_type": "code",
      "source": [
        "df = pd.read_csv(r'Final Transactions.csv')"
      ],
      "metadata": {
        "id": "3DhxWtwajBKW"
      },
      "execution_count": 2,
      "outputs": []
    },
    {
      "cell_type": "markdown",
      "source": [
        "* This Project is about fraud detection of any form such as : credit card fraudulent transcation, mobile banking fraudulent transcation, etc.. \n",
        "* This dataset contains several features : 1 - TRANSACTION_ID: Represents a unique identifier for each transaction.\n",
        "2 - TX_DATETIME: Represents the date and time of the transaction.\n",
        "3 - CUSTOMER_ID: Represents the unique identifier of the customer who made the transaction.\n",
        "4 - TERMINAL_ID: Represents the unique identifier of the terminal where the transaction was made.\n",
        "5 - TX_AMOUNT: Represents the amount of the transaction.\n",
        "6 - TX_TIME_SECONDS: Represents the duration of the transaction in seconds.\n",
        "7 - TX_TIME_DAYS: Represents the duration of the transaction in days.\n",
        "8 - TX_FRAUD: indicates whether the transaction is fraudulent or not.\n",
        "0 represents a legitimate transaction and 1 represents a fraudulent transaction.\n",
        "9 - TX_FRAUD_SCENARIO: represents the type of fraudulent scenario.\n",
        "0 indicates no fraud, and other values indicate different types of fraud scenarios which i specified previously."
      ],
      "metadata": {
        "id": "wdm7CSdAH7rc"
      }
    },
    {
      "cell_type": "code",
      "source": [
        "df.head(20)"
      ],
      "metadata": {
        "colab": {
          "base_uri": "https://localhost:8080/",
          "height": 1000
        },
        "id": "ZkU5tjVfjBM7",
        "outputId": "4917c108-6e02-4747-bfed-a409a78a2658"
      },
      "execution_count": 3,
      "outputs": [
        {
          "output_type": "execute_result",
          "data": {
            "text/plain": [
              "    Unnamed: 0  TRANSACTION_ID          TX_DATETIME  CUSTOMER_ID  TERMINAL_ID  \\\n",
              "0            0               0  2023-01-01 00:00:31          596         3156   \n",
              "1            1               1  2023-01-01 00:02:10         4961         3412   \n",
              "2            2               2  2023-01-01 00:07:56            2         1365   \n",
              "3            3               3  2023-01-01 00:09:29         4128         8737   \n",
              "4            4               4  2023-01-01 00:10:34          927         9906   \n",
              "5            5               5  2023-01-01 00:10:45          568         8803   \n",
              "6            6               6  2023-01-01 00:11:30         2803         5490   \n",
              "7            7               7  2023-01-01 00:11:44         4684         2486   \n",
              "8            8               8  2023-01-01 00:11:53         4128         8354   \n",
              "9            9               9  2023-01-01 00:13:44          541         6212   \n",
              "10          10              10  2023-01-01 00:16:59         4554         2198   \n",
              "11          11              11  2023-01-01 00:17:44         2000         7997   \n",
              "12          12              12  2023-01-01 00:18:01         1948         3372   \n",
              "13          13              13  2023-01-01 00:19:22         2938         1516   \n",
              "14          14              14  2023-01-01 00:19:49         2989         4111   \n",
              "15          15              15  2023-01-01 00:20:03         3842         1693   \n",
              "16          16              16  2023-01-01 00:20:25         4361         4322   \n",
              "17          17              17  2023-01-01 00:20:40         4177         6270   \n",
              "18          18              18  2023-01-01 00:20:48         3700          471   \n",
              "19          19              19  2023-01-01 00:21:06         3671         4223   \n",
              "\n",
              "    TX_AMOUNT  TX_TIME_SECONDS  TX_TIME_DAYS  TX_FRAUD  TX_FRAUD_SCENARIO  \n",
              "0      533.07               31             0         0                  0  \n",
              "1      808.56              130             0         0                  0  \n",
              "2     1442.94              476             0         1                  1  \n",
              "3      620.65              569             0         0                  0  \n",
              "4      490.66              634             0         0                  0  \n",
              "5      401.17              645             0         0                  0  \n",
              "6      938.54              690             0         0                  0  \n",
              "7      206.53              704             0         0                  0  \n",
              "8      253.47              713             0         0                  0  \n",
              "9      555.63              824             0         0                  0  \n",
              "10     575.43             1019             0         0                  0  \n",
              "11     651.42             1064             0         0                  0  \n",
              "12     537.04             1081             0         0                  0  \n",
              "13     197.46             1162             0         0                  0  \n",
              "14     207.87             1189             0         0                  0  \n",
              "15     220.90             1203             0         0                  0  \n",
              "16     916.40             1225             0         0                  0  \n",
              "17     617.88             1240             0         0                  0  \n",
              "18     845.86             1248             0         0                  0  \n",
              "19     637.92             1266             0         0                  0  "
            ],
            "text/html": [
              "\n",
              "  <div id=\"df-ddec50ae-4345-4a5b-82c5-2b8bac7e4dec\">\n",
              "    <div class=\"colab-df-container\">\n",
              "      <div>\n",
              "<style scoped>\n",
              "    .dataframe tbody tr th:only-of-type {\n",
              "        vertical-align: middle;\n",
              "    }\n",
              "\n",
              "    .dataframe tbody tr th {\n",
              "        vertical-align: top;\n",
              "    }\n",
              "\n",
              "    .dataframe thead th {\n",
              "        text-align: right;\n",
              "    }\n",
              "</style>\n",
              "<table border=\"1\" class=\"dataframe\">\n",
              "  <thead>\n",
              "    <tr style=\"text-align: right;\">\n",
              "      <th></th>\n",
              "      <th>Unnamed: 0</th>\n",
              "      <th>TRANSACTION_ID</th>\n",
              "      <th>TX_DATETIME</th>\n",
              "      <th>CUSTOMER_ID</th>\n",
              "      <th>TERMINAL_ID</th>\n",
              "      <th>TX_AMOUNT</th>\n",
              "      <th>TX_TIME_SECONDS</th>\n",
              "      <th>TX_TIME_DAYS</th>\n",
              "      <th>TX_FRAUD</th>\n",
              "      <th>TX_FRAUD_SCENARIO</th>\n",
              "    </tr>\n",
              "  </thead>\n",
              "  <tbody>\n",
              "    <tr>\n",
              "      <th>0</th>\n",
              "      <td>0</td>\n",
              "      <td>0</td>\n",
              "      <td>2023-01-01 00:00:31</td>\n",
              "      <td>596</td>\n",
              "      <td>3156</td>\n",
              "      <td>533.07</td>\n",
              "      <td>31</td>\n",
              "      <td>0</td>\n",
              "      <td>0</td>\n",
              "      <td>0</td>\n",
              "    </tr>\n",
              "    <tr>\n",
              "      <th>1</th>\n",
              "      <td>1</td>\n",
              "      <td>1</td>\n",
              "      <td>2023-01-01 00:02:10</td>\n",
              "      <td>4961</td>\n",
              "      <td>3412</td>\n",
              "      <td>808.56</td>\n",
              "      <td>130</td>\n",
              "      <td>0</td>\n",
              "      <td>0</td>\n",
              "      <td>0</td>\n",
              "    </tr>\n",
              "    <tr>\n",
              "      <th>2</th>\n",
              "      <td>2</td>\n",
              "      <td>2</td>\n",
              "      <td>2023-01-01 00:07:56</td>\n",
              "      <td>2</td>\n",
              "      <td>1365</td>\n",
              "      <td>1442.94</td>\n",
              "      <td>476</td>\n",
              "      <td>0</td>\n",
              "      <td>1</td>\n",
              "      <td>1</td>\n",
              "    </tr>\n",
              "    <tr>\n",
              "      <th>3</th>\n",
              "      <td>3</td>\n",
              "      <td>3</td>\n",
              "      <td>2023-01-01 00:09:29</td>\n",
              "      <td>4128</td>\n",
              "      <td>8737</td>\n",
              "      <td>620.65</td>\n",
              "      <td>569</td>\n",
              "      <td>0</td>\n",
              "      <td>0</td>\n",
              "      <td>0</td>\n",
              "    </tr>\n",
              "    <tr>\n",
              "      <th>4</th>\n",
              "      <td>4</td>\n",
              "      <td>4</td>\n",
              "      <td>2023-01-01 00:10:34</td>\n",
              "      <td>927</td>\n",
              "      <td>9906</td>\n",
              "      <td>490.66</td>\n",
              "      <td>634</td>\n",
              "      <td>0</td>\n",
              "      <td>0</td>\n",
              "      <td>0</td>\n",
              "    </tr>\n",
              "    <tr>\n",
              "      <th>5</th>\n",
              "      <td>5</td>\n",
              "      <td>5</td>\n",
              "      <td>2023-01-01 00:10:45</td>\n",
              "      <td>568</td>\n",
              "      <td>8803</td>\n",
              "      <td>401.17</td>\n",
              "      <td>645</td>\n",
              "      <td>0</td>\n",
              "      <td>0</td>\n",
              "      <td>0</td>\n",
              "    </tr>\n",
              "    <tr>\n",
              "      <th>6</th>\n",
              "      <td>6</td>\n",
              "      <td>6</td>\n",
              "      <td>2023-01-01 00:11:30</td>\n",
              "      <td>2803</td>\n",
              "      <td>5490</td>\n",
              "      <td>938.54</td>\n",
              "      <td>690</td>\n",
              "      <td>0</td>\n",
              "      <td>0</td>\n",
              "      <td>0</td>\n",
              "    </tr>\n",
              "    <tr>\n",
              "      <th>7</th>\n",
              "      <td>7</td>\n",
              "      <td>7</td>\n",
              "      <td>2023-01-01 00:11:44</td>\n",
              "      <td>4684</td>\n",
              "      <td>2486</td>\n",
              "      <td>206.53</td>\n",
              "      <td>704</td>\n",
              "      <td>0</td>\n",
              "      <td>0</td>\n",
              "      <td>0</td>\n",
              "    </tr>\n",
              "    <tr>\n",
              "      <th>8</th>\n",
              "      <td>8</td>\n",
              "      <td>8</td>\n",
              "      <td>2023-01-01 00:11:53</td>\n",
              "      <td>4128</td>\n",
              "      <td>8354</td>\n",
              "      <td>253.47</td>\n",
              "      <td>713</td>\n",
              "      <td>0</td>\n",
              "      <td>0</td>\n",
              "      <td>0</td>\n",
              "    </tr>\n",
              "    <tr>\n",
              "      <th>9</th>\n",
              "      <td>9</td>\n",
              "      <td>9</td>\n",
              "      <td>2023-01-01 00:13:44</td>\n",
              "      <td>541</td>\n",
              "      <td>6212</td>\n",
              "      <td>555.63</td>\n",
              "      <td>824</td>\n",
              "      <td>0</td>\n",
              "      <td>0</td>\n",
              "      <td>0</td>\n",
              "    </tr>\n",
              "    <tr>\n",
              "      <th>10</th>\n",
              "      <td>10</td>\n",
              "      <td>10</td>\n",
              "      <td>2023-01-01 00:16:59</td>\n",
              "      <td>4554</td>\n",
              "      <td>2198</td>\n",
              "      <td>575.43</td>\n",
              "      <td>1019</td>\n",
              "      <td>0</td>\n",
              "      <td>0</td>\n",
              "      <td>0</td>\n",
              "    </tr>\n",
              "    <tr>\n",
              "      <th>11</th>\n",
              "      <td>11</td>\n",
              "      <td>11</td>\n",
              "      <td>2023-01-01 00:17:44</td>\n",
              "      <td>2000</td>\n",
              "      <td>7997</td>\n",
              "      <td>651.42</td>\n",
              "      <td>1064</td>\n",
              "      <td>0</td>\n",
              "      <td>0</td>\n",
              "      <td>0</td>\n",
              "    </tr>\n",
              "    <tr>\n",
              "      <th>12</th>\n",
              "      <td>12</td>\n",
              "      <td>12</td>\n",
              "      <td>2023-01-01 00:18:01</td>\n",
              "      <td>1948</td>\n",
              "      <td>3372</td>\n",
              "      <td>537.04</td>\n",
              "      <td>1081</td>\n",
              "      <td>0</td>\n",
              "      <td>0</td>\n",
              "      <td>0</td>\n",
              "    </tr>\n",
              "    <tr>\n",
              "      <th>13</th>\n",
              "      <td>13</td>\n",
              "      <td>13</td>\n",
              "      <td>2023-01-01 00:19:22</td>\n",
              "      <td>2938</td>\n",
              "      <td>1516</td>\n",
              "      <td>197.46</td>\n",
              "      <td>1162</td>\n",
              "      <td>0</td>\n",
              "      <td>0</td>\n",
              "      <td>0</td>\n",
              "    </tr>\n",
              "    <tr>\n",
              "      <th>14</th>\n",
              "      <td>14</td>\n",
              "      <td>14</td>\n",
              "      <td>2023-01-01 00:19:49</td>\n",
              "      <td>2989</td>\n",
              "      <td>4111</td>\n",
              "      <td>207.87</td>\n",
              "      <td>1189</td>\n",
              "      <td>0</td>\n",
              "      <td>0</td>\n",
              "      <td>0</td>\n",
              "    </tr>\n",
              "    <tr>\n",
              "      <th>15</th>\n",
              "      <td>15</td>\n",
              "      <td>15</td>\n",
              "      <td>2023-01-01 00:20:03</td>\n",
              "      <td>3842</td>\n",
              "      <td>1693</td>\n",
              "      <td>220.90</td>\n",
              "      <td>1203</td>\n",
              "      <td>0</td>\n",
              "      <td>0</td>\n",
              "      <td>0</td>\n",
              "    </tr>\n",
              "    <tr>\n",
              "      <th>16</th>\n",
              "      <td>16</td>\n",
              "      <td>16</td>\n",
              "      <td>2023-01-01 00:20:25</td>\n",
              "      <td>4361</td>\n",
              "      <td>4322</td>\n",
              "      <td>916.40</td>\n",
              "      <td>1225</td>\n",
              "      <td>0</td>\n",
              "      <td>0</td>\n",
              "      <td>0</td>\n",
              "    </tr>\n",
              "    <tr>\n",
              "      <th>17</th>\n",
              "      <td>17</td>\n",
              "      <td>17</td>\n",
              "      <td>2023-01-01 00:20:40</td>\n",
              "      <td>4177</td>\n",
              "      <td>6270</td>\n",
              "      <td>617.88</td>\n",
              "      <td>1240</td>\n",
              "      <td>0</td>\n",
              "      <td>0</td>\n",
              "      <td>0</td>\n",
              "    </tr>\n",
              "    <tr>\n",
              "      <th>18</th>\n",
              "      <td>18</td>\n",
              "      <td>18</td>\n",
              "      <td>2023-01-01 00:20:48</td>\n",
              "      <td>3700</td>\n",
              "      <td>471</td>\n",
              "      <td>845.86</td>\n",
              "      <td>1248</td>\n",
              "      <td>0</td>\n",
              "      <td>0</td>\n",
              "      <td>0</td>\n",
              "    </tr>\n",
              "    <tr>\n",
              "      <th>19</th>\n",
              "      <td>19</td>\n",
              "      <td>19</td>\n",
              "      <td>2023-01-01 00:21:06</td>\n",
              "      <td>3671</td>\n",
              "      <td>4223</td>\n",
              "      <td>637.92</td>\n",
              "      <td>1266</td>\n",
              "      <td>0</td>\n",
              "      <td>0</td>\n",
              "      <td>0</td>\n",
              "    </tr>\n",
              "  </tbody>\n",
              "</table>\n",
              "</div>\n",
              "      <button class=\"colab-df-convert\" onclick=\"convertToInteractive('df-ddec50ae-4345-4a5b-82c5-2b8bac7e4dec')\"\n",
              "              title=\"Convert this dataframe to an interactive table.\"\n",
              "              style=\"display:none;\">\n",
              "        \n",
              "  <svg xmlns=\"http://www.w3.org/2000/svg\" height=\"24px\"viewBox=\"0 0 24 24\"\n",
              "       width=\"24px\">\n",
              "    <path d=\"M0 0h24v24H0V0z\" fill=\"none\"/>\n",
              "    <path d=\"M18.56 5.44l.94 2.06.94-2.06 2.06-.94-2.06-.94-.94-2.06-.94 2.06-2.06.94zm-11 1L8.5 8.5l.94-2.06 2.06-.94-2.06-.94L8.5 2.5l-.94 2.06-2.06.94zm10 10l.94 2.06.94-2.06 2.06-.94-2.06-.94-.94-2.06-.94 2.06-2.06.94z\"/><path d=\"M17.41 7.96l-1.37-1.37c-.4-.4-.92-.59-1.43-.59-.52 0-1.04.2-1.43.59L10.3 9.45l-7.72 7.72c-.78.78-.78 2.05 0 2.83L4 21.41c.39.39.9.59 1.41.59.51 0 1.02-.2 1.41-.59l7.78-7.78 2.81-2.81c.8-.78.8-2.07 0-2.86zM5.41 20L4 18.59l7.72-7.72 1.47 1.35L5.41 20z\"/>\n",
              "  </svg>\n",
              "      </button>\n",
              "      \n",
              "  <style>\n",
              "    .colab-df-container {\n",
              "      display:flex;\n",
              "      flex-wrap:wrap;\n",
              "      gap: 12px;\n",
              "    }\n",
              "\n",
              "    .colab-df-convert {\n",
              "      background-color: #E8F0FE;\n",
              "      border: none;\n",
              "      border-radius: 50%;\n",
              "      cursor: pointer;\n",
              "      display: none;\n",
              "      fill: #1967D2;\n",
              "      height: 32px;\n",
              "      padding: 0 0 0 0;\n",
              "      width: 32px;\n",
              "    }\n",
              "\n",
              "    .colab-df-convert:hover {\n",
              "      background-color: #E2EBFA;\n",
              "      box-shadow: 0px 1px 2px rgba(60, 64, 67, 0.3), 0px 1px 3px 1px rgba(60, 64, 67, 0.15);\n",
              "      fill: #174EA6;\n",
              "    }\n",
              "\n",
              "    [theme=dark] .colab-df-convert {\n",
              "      background-color: #3B4455;\n",
              "      fill: #D2E3FC;\n",
              "    }\n",
              "\n",
              "    [theme=dark] .colab-df-convert:hover {\n",
              "      background-color: #434B5C;\n",
              "      box-shadow: 0px 1px 3px 1px rgba(0, 0, 0, 0.15);\n",
              "      filter: drop-shadow(0px 1px 2px rgba(0, 0, 0, 0.3));\n",
              "      fill: #FFFFFF;\n",
              "    }\n",
              "  </style>\n",
              "\n",
              "      <script>\n",
              "        const buttonEl =\n",
              "          document.querySelector('#df-ddec50ae-4345-4a5b-82c5-2b8bac7e4dec button.colab-df-convert');\n",
              "        buttonEl.style.display =\n",
              "          google.colab.kernel.accessAllowed ? 'block' : 'none';\n",
              "\n",
              "        async function convertToInteractive(key) {\n",
              "          const element = document.querySelector('#df-ddec50ae-4345-4a5b-82c5-2b8bac7e4dec');\n",
              "          const dataTable =\n",
              "            await google.colab.kernel.invokeFunction('convertToInteractive',\n",
              "                                                     [key], {});\n",
              "          if (!dataTable) return;\n",
              "\n",
              "          const docLinkHtml = 'Like what you see? Visit the ' +\n",
              "            '<a target=\"_blank\" href=https://colab.research.google.com/notebooks/data_table.ipynb>data table notebook</a>'\n",
              "            + ' to learn more about interactive tables.';\n",
              "          element.innerHTML = '';\n",
              "          dataTable['output_type'] = 'display_data';\n",
              "          await google.colab.output.renderOutput(dataTable, element);\n",
              "          const docLink = document.createElement('div');\n",
              "          docLink.innerHTML = docLinkHtml;\n",
              "          element.appendChild(docLink);\n",
              "        }\n",
              "      </script>\n",
              "    </div>\n",
              "  </div>\n",
              "  "
            ]
          },
          "metadata": {},
          "execution_count": 3
        }
      ]
    },
    {
      "cell_type": "code",
      "source": [
        "df.info()"
      ],
      "metadata": {
        "colab": {
          "base_uri": "https://localhost:8080/"
        },
        "id": "DlmFWPhJjBPW",
        "outputId": "756ffb46-4abd-41f1-a640-8dae843a8936"
      },
      "execution_count": 4,
      "outputs": [
        {
          "output_type": "stream",
          "name": "stdout",
          "text": [
            "<class 'pandas.core.frame.DataFrame'>\n",
            "RangeIndex: 1754155 entries, 0 to 1754154\n",
            "Data columns (total 10 columns):\n",
            " #   Column             Dtype  \n",
            "---  ------             -----  \n",
            " 0   Unnamed: 0         int64  \n",
            " 1   TRANSACTION_ID     int64  \n",
            " 2   TX_DATETIME        object \n",
            " 3   CUSTOMER_ID        int64  \n",
            " 4   TERMINAL_ID        int64  \n",
            " 5   TX_AMOUNT          float64\n",
            " 6   TX_TIME_SECONDS    int64  \n",
            " 7   TX_TIME_DAYS       int64  \n",
            " 8   TX_FRAUD           int64  \n",
            " 9   TX_FRAUD_SCENARIO  int64  \n",
            "dtypes: float64(1), int64(8), object(1)\n",
            "memory usage: 133.8+ MB\n"
          ]
        }
      ]
    },
    {
      "cell_type": "code",
      "source": [
        "df.describe().round(2)"
      ],
      "metadata": {
        "colab": {
          "base_uri": "https://localhost:8080/",
          "height": 382
        },
        "id": "6uF67wTejBR9",
        "outputId": "c0f3e2e2-691c-4ff6-a92f-ff816a88fd54"
      },
      "execution_count": 5,
      "outputs": [
        {
          "output_type": "execute_result",
          "data": {
            "text/plain": [
              "       Unnamed: 0  TRANSACTION_ID  CUSTOMER_ID  TERMINAL_ID   TX_AMOUNT  \\\n",
              "count  1754155.00      1754155.00   1754155.00   1754155.00  1754155.00   \n",
              "mean    877077.00       877077.00      2504.01      4996.73      539.68   \n",
              "std     506381.08       506381.08      1445.99      2886.10     1179.71   \n",
              "min          0.00            0.00         0.00         0.00        0.00   \n",
              "25%     438538.50       438538.50      1252.00      2502.00      179.95   \n",
              "50%     877077.00       877077.00      2506.00      4994.00      421.75   \n",
              "75%    1315615.50      1315615.50      3765.00      7495.00      750.60   \n",
              "max    1754154.00      1754154.00      4999.00      9999.00   647837.50   \n",
              "\n",
              "       TX_TIME_SECONDS  TX_TIME_DAYS    TX_FRAUD  TX_FRAUD_SCENARIO  \n",
              "count       1754155.00    1754155.00  1754155.00         1754155.00  \n",
              "mean        7903233.71         90.97        0.13               0.14  \n",
              "std         4565172.38         52.84        0.34               0.39  \n",
              "min              31.00          0.00        0.00               0.00  \n",
              "25%         3940846.50         45.00        0.00               0.00  \n",
              "50%         7902670.00         91.00        0.00               0.00  \n",
              "75%        11865661.50        137.00        0.00               0.00  \n",
              "max        15811197.00        182.00        1.00               3.00  "
            ],
            "text/html": [
              "\n",
              "  <div id=\"df-5c6b9e6e-cb13-48fd-8c54-d9723e232df1\">\n",
              "    <div class=\"colab-df-container\">\n",
              "      <div>\n",
              "<style scoped>\n",
              "    .dataframe tbody tr th:only-of-type {\n",
              "        vertical-align: middle;\n",
              "    }\n",
              "\n",
              "    .dataframe tbody tr th {\n",
              "        vertical-align: top;\n",
              "    }\n",
              "\n",
              "    .dataframe thead th {\n",
              "        text-align: right;\n",
              "    }\n",
              "</style>\n",
              "<table border=\"1\" class=\"dataframe\">\n",
              "  <thead>\n",
              "    <tr style=\"text-align: right;\">\n",
              "      <th></th>\n",
              "      <th>Unnamed: 0</th>\n",
              "      <th>TRANSACTION_ID</th>\n",
              "      <th>CUSTOMER_ID</th>\n",
              "      <th>TERMINAL_ID</th>\n",
              "      <th>TX_AMOUNT</th>\n",
              "      <th>TX_TIME_SECONDS</th>\n",
              "      <th>TX_TIME_DAYS</th>\n",
              "      <th>TX_FRAUD</th>\n",
              "      <th>TX_FRAUD_SCENARIO</th>\n",
              "    </tr>\n",
              "  </thead>\n",
              "  <tbody>\n",
              "    <tr>\n",
              "      <th>count</th>\n",
              "      <td>1754155.00</td>\n",
              "      <td>1754155.00</td>\n",
              "      <td>1754155.00</td>\n",
              "      <td>1754155.00</td>\n",
              "      <td>1754155.00</td>\n",
              "      <td>1754155.00</td>\n",
              "      <td>1754155.00</td>\n",
              "      <td>1754155.00</td>\n",
              "      <td>1754155.00</td>\n",
              "    </tr>\n",
              "    <tr>\n",
              "      <th>mean</th>\n",
              "      <td>877077.00</td>\n",
              "      <td>877077.00</td>\n",
              "      <td>2504.01</td>\n",
              "      <td>4996.73</td>\n",
              "      <td>539.68</td>\n",
              "      <td>7903233.71</td>\n",
              "      <td>90.97</td>\n",
              "      <td>0.13</td>\n",
              "      <td>0.14</td>\n",
              "    </tr>\n",
              "    <tr>\n",
              "      <th>std</th>\n",
              "      <td>506381.08</td>\n",
              "      <td>506381.08</td>\n",
              "      <td>1445.99</td>\n",
              "      <td>2886.10</td>\n",
              "      <td>1179.71</td>\n",
              "      <td>4565172.38</td>\n",
              "      <td>52.84</td>\n",
              "      <td>0.34</td>\n",
              "      <td>0.39</td>\n",
              "    </tr>\n",
              "    <tr>\n",
              "      <th>min</th>\n",
              "      <td>0.00</td>\n",
              "      <td>0.00</td>\n",
              "      <td>0.00</td>\n",
              "      <td>0.00</td>\n",
              "      <td>0.00</td>\n",
              "      <td>31.00</td>\n",
              "      <td>0.00</td>\n",
              "      <td>0.00</td>\n",
              "      <td>0.00</td>\n",
              "    </tr>\n",
              "    <tr>\n",
              "      <th>25%</th>\n",
              "      <td>438538.50</td>\n",
              "      <td>438538.50</td>\n",
              "      <td>1252.00</td>\n",
              "      <td>2502.00</td>\n",
              "      <td>179.95</td>\n",
              "      <td>3940846.50</td>\n",
              "      <td>45.00</td>\n",
              "      <td>0.00</td>\n",
              "      <td>0.00</td>\n",
              "    </tr>\n",
              "    <tr>\n",
              "      <th>50%</th>\n",
              "      <td>877077.00</td>\n",
              "      <td>877077.00</td>\n",
              "      <td>2506.00</td>\n",
              "      <td>4994.00</td>\n",
              "      <td>421.75</td>\n",
              "      <td>7902670.00</td>\n",
              "      <td>91.00</td>\n",
              "      <td>0.00</td>\n",
              "      <td>0.00</td>\n",
              "    </tr>\n",
              "    <tr>\n",
              "      <th>75%</th>\n",
              "      <td>1315615.50</td>\n",
              "      <td>1315615.50</td>\n",
              "      <td>3765.00</td>\n",
              "      <td>7495.00</td>\n",
              "      <td>750.60</td>\n",
              "      <td>11865661.50</td>\n",
              "      <td>137.00</td>\n",
              "      <td>0.00</td>\n",
              "      <td>0.00</td>\n",
              "    </tr>\n",
              "    <tr>\n",
              "      <th>max</th>\n",
              "      <td>1754154.00</td>\n",
              "      <td>1754154.00</td>\n",
              "      <td>4999.00</td>\n",
              "      <td>9999.00</td>\n",
              "      <td>647837.50</td>\n",
              "      <td>15811197.00</td>\n",
              "      <td>182.00</td>\n",
              "      <td>1.00</td>\n",
              "      <td>3.00</td>\n",
              "    </tr>\n",
              "  </tbody>\n",
              "</table>\n",
              "</div>\n",
              "      <button class=\"colab-df-convert\" onclick=\"convertToInteractive('df-5c6b9e6e-cb13-48fd-8c54-d9723e232df1')\"\n",
              "              title=\"Convert this dataframe to an interactive table.\"\n",
              "              style=\"display:none;\">\n",
              "        \n",
              "  <svg xmlns=\"http://www.w3.org/2000/svg\" height=\"24px\"viewBox=\"0 0 24 24\"\n",
              "       width=\"24px\">\n",
              "    <path d=\"M0 0h24v24H0V0z\" fill=\"none\"/>\n",
              "    <path d=\"M18.56 5.44l.94 2.06.94-2.06 2.06-.94-2.06-.94-.94-2.06-.94 2.06-2.06.94zm-11 1L8.5 8.5l.94-2.06 2.06-.94-2.06-.94L8.5 2.5l-.94 2.06-2.06.94zm10 10l.94 2.06.94-2.06 2.06-.94-2.06-.94-.94-2.06-.94 2.06-2.06.94z\"/><path d=\"M17.41 7.96l-1.37-1.37c-.4-.4-.92-.59-1.43-.59-.52 0-1.04.2-1.43.59L10.3 9.45l-7.72 7.72c-.78.78-.78 2.05 0 2.83L4 21.41c.39.39.9.59 1.41.59.51 0 1.02-.2 1.41-.59l7.78-7.78 2.81-2.81c.8-.78.8-2.07 0-2.86zM5.41 20L4 18.59l7.72-7.72 1.47 1.35L5.41 20z\"/>\n",
              "  </svg>\n",
              "      </button>\n",
              "      \n",
              "  <style>\n",
              "    .colab-df-container {\n",
              "      display:flex;\n",
              "      flex-wrap:wrap;\n",
              "      gap: 12px;\n",
              "    }\n",
              "\n",
              "    .colab-df-convert {\n",
              "      background-color: #E8F0FE;\n",
              "      border: none;\n",
              "      border-radius: 50%;\n",
              "      cursor: pointer;\n",
              "      display: none;\n",
              "      fill: #1967D2;\n",
              "      height: 32px;\n",
              "      padding: 0 0 0 0;\n",
              "      width: 32px;\n",
              "    }\n",
              "\n",
              "    .colab-df-convert:hover {\n",
              "      background-color: #E2EBFA;\n",
              "      box-shadow: 0px 1px 2px rgba(60, 64, 67, 0.3), 0px 1px 3px 1px rgba(60, 64, 67, 0.15);\n",
              "      fill: #174EA6;\n",
              "    }\n",
              "\n",
              "    [theme=dark] .colab-df-convert {\n",
              "      background-color: #3B4455;\n",
              "      fill: #D2E3FC;\n",
              "    }\n",
              "\n",
              "    [theme=dark] .colab-df-convert:hover {\n",
              "      background-color: #434B5C;\n",
              "      box-shadow: 0px 1px 3px 1px rgba(0, 0, 0, 0.15);\n",
              "      filter: drop-shadow(0px 1px 2px rgba(0, 0, 0, 0.3));\n",
              "      fill: #FFFFFF;\n",
              "    }\n",
              "  </style>\n",
              "\n",
              "      <script>\n",
              "        const buttonEl =\n",
              "          document.querySelector('#df-5c6b9e6e-cb13-48fd-8c54-d9723e232df1 button.colab-df-convert');\n",
              "        buttonEl.style.display =\n",
              "          google.colab.kernel.accessAllowed ? 'block' : 'none';\n",
              "\n",
              "        async function convertToInteractive(key) {\n",
              "          const element = document.querySelector('#df-5c6b9e6e-cb13-48fd-8c54-d9723e232df1');\n",
              "          const dataTable =\n",
              "            await google.colab.kernel.invokeFunction('convertToInteractive',\n",
              "                                                     [key], {});\n",
              "          if (!dataTable) return;\n",
              "\n",
              "          const docLinkHtml = 'Like what you see? Visit the ' +\n",
              "            '<a target=\"_blank\" href=https://colab.research.google.com/notebooks/data_table.ipynb>data table notebook</a>'\n",
              "            + ' to learn more about interactive tables.';\n",
              "          element.innerHTML = '';\n",
              "          dataTable['output_type'] = 'display_data';\n",
              "          await google.colab.output.renderOutput(dataTable, element);\n",
              "          const docLink = document.createElement('div');\n",
              "          docLink.innerHTML = docLinkHtml;\n",
              "          element.appendChild(docLink);\n",
              "        }\n",
              "      </script>\n",
              "    </div>\n",
              "  </div>\n",
              "  "
            ]
          },
          "metadata": {},
          "execution_count": 5
        }
      ]
    },
    {
      "cell_type": "code",
      "source": [
        "df.isna().sum()"
      ],
      "metadata": {
        "colab": {
          "base_uri": "https://localhost:8080/"
        },
        "id": "mUdDhxdKjBUk",
        "outputId": "4b6b7cf7-b8a8-4d71-e6b5-beac62e17e30"
      },
      "execution_count": 6,
      "outputs": [
        {
          "output_type": "execute_result",
          "data": {
            "text/plain": [
              "Unnamed: 0           0\n",
              "TRANSACTION_ID       0\n",
              "TX_DATETIME          0\n",
              "CUSTOMER_ID          0\n",
              "TERMINAL_ID          0\n",
              "TX_AMOUNT            0\n",
              "TX_TIME_SECONDS      0\n",
              "TX_TIME_DAYS         0\n",
              "TX_FRAUD             0\n",
              "TX_FRAUD_SCENARIO    0\n",
              "dtype: int64"
            ]
          },
          "metadata": {},
          "execution_count": 6
        }
      ]
    },
    {
      "cell_type": "code",
      "source": [
        "df.corr().style.background_gradient(cmap='coolwarm')"
      ],
      "metadata": {
        "colab": {
          "base_uri": "https://localhost:8080/",
          "height": 369
        },
        "id": "VzQpKCcssByo",
        "outputId": "50b682bc-964c-49b8-d6ec-a4daeccba56f"
      },
      "execution_count": 7,
      "outputs": [
        {
          "output_type": "execute_result",
          "data": {
            "text/plain": [
              "<pandas.io.formats.style.Styler at 0x7f8c3d6096d0>"
            ],
            "text/html": [
              "<style type=\"text/css\">\n",
              "#T_d2f04_row0_col0, #T_d2f04_row0_col1, #T_d2f04_row0_col5, #T_d2f04_row0_col6, #T_d2f04_row1_col0, #T_d2f04_row1_col1, #T_d2f04_row1_col5, #T_d2f04_row1_col6, #T_d2f04_row2_col2, #T_d2f04_row3_col3, #T_d2f04_row4_col4, #T_d2f04_row5_col0, #T_d2f04_row5_col1, #T_d2f04_row5_col5, #T_d2f04_row5_col6, #T_d2f04_row6_col0, #T_d2f04_row6_col1, #T_d2f04_row6_col5, #T_d2f04_row6_col6, #T_d2f04_row7_col7, #T_d2f04_row8_col8 {\n",
              "  background-color: #b40426;\n",
              "  color: #f1f1f1;\n",
              "}\n",
              "#T_d2f04_row0_col2, #T_d2f04_row0_col3, #T_d2f04_row1_col2, #T_d2f04_row1_col3, #T_d2f04_row2_col0, #T_d2f04_row2_col1, #T_d2f04_row2_col3, #T_d2f04_row2_col4, #T_d2f04_row2_col5, #T_d2f04_row2_col6, #T_d2f04_row3_col0, #T_d2f04_row3_col1, #T_d2f04_row3_col2, #T_d2f04_row3_col4, #T_d2f04_row3_col5, #T_d2f04_row3_col6, #T_d2f04_row3_col7, #T_d2f04_row3_col8, #T_d2f04_row4_col0, #T_d2f04_row4_col1, #T_d2f04_row4_col2, #T_d2f04_row4_col3, #T_d2f04_row4_col5, #T_d2f04_row4_col6, #T_d2f04_row5_col2, #T_d2f04_row5_col3, #T_d2f04_row6_col2, #T_d2f04_row6_col3, #T_d2f04_row7_col0, #T_d2f04_row7_col1, #T_d2f04_row7_col3, #T_d2f04_row7_col5, #T_d2f04_row7_col6, #T_d2f04_row8_col3 {\n",
              "  background-color: #3b4cc0;\n",
              "  color: #f1f1f1;\n",
              "}\n",
              "#T_d2f04_row0_col4, #T_d2f04_row0_col7, #T_d2f04_row1_col4, #T_d2f04_row1_col7, #T_d2f04_row2_col7, #T_d2f04_row2_col8, #T_d2f04_row5_col4, #T_d2f04_row5_col7, #T_d2f04_row6_col4, #T_d2f04_row6_col7, #T_d2f04_row7_col2, #T_d2f04_row8_col0, #T_d2f04_row8_col1, #T_d2f04_row8_col2, #T_d2f04_row8_col5, #T_d2f04_row8_col6 {\n",
              "  background-color: #3c4ec2;\n",
              "  color: #f1f1f1;\n",
              "}\n",
              "#T_d2f04_row0_col8, #T_d2f04_row1_col8, #T_d2f04_row5_col8, #T_d2f04_row6_col8 {\n",
              "  background-color: #3d50c3;\n",
              "  color: #f1f1f1;\n",
              "}\n",
              "#T_d2f04_row4_col7, #T_d2f04_row7_col4 {\n",
              "  background-color: #a3c2fe;\n",
              "  color: #000000;\n",
              "}\n",
              "#T_d2f04_row4_col8, #T_d2f04_row8_col4 {\n",
              "  background-color: #c6d6f1;\n",
              "  color: #000000;\n",
              "}\n",
              "#T_d2f04_row7_col8, #T_d2f04_row8_col7 {\n",
              "  background-color: #c73635;\n",
              "  color: #f1f1f1;\n",
              "}\n",
              "</style>\n",
              "<table id=\"T_d2f04_\" class=\"dataframe\">\n",
              "  <thead>\n",
              "    <tr>\n",
              "      <th class=\"blank level0\" >&nbsp;</th>\n",
              "      <th class=\"col_heading level0 col0\" >Unnamed: 0</th>\n",
              "      <th class=\"col_heading level0 col1\" >TRANSACTION_ID</th>\n",
              "      <th class=\"col_heading level0 col2\" >CUSTOMER_ID</th>\n",
              "      <th class=\"col_heading level0 col3\" >TERMINAL_ID</th>\n",
              "      <th class=\"col_heading level0 col4\" >TX_AMOUNT</th>\n",
              "      <th class=\"col_heading level0 col5\" >TX_TIME_SECONDS</th>\n",
              "      <th class=\"col_heading level0 col6\" >TX_TIME_DAYS</th>\n",
              "      <th class=\"col_heading level0 col7\" >TX_FRAUD</th>\n",
              "      <th class=\"col_heading level0 col8\" >TX_FRAUD_SCENARIO</th>\n",
              "    </tr>\n",
              "  </thead>\n",
              "  <tbody>\n",
              "    <tr>\n",
              "      <th id=\"T_d2f04_level0_row0\" class=\"row_heading level0 row0\" >Unnamed: 0</th>\n",
              "      <td id=\"T_d2f04_row0_col0\" class=\"data row0 col0\" >1.000000</td>\n",
              "      <td id=\"T_d2f04_row0_col1\" class=\"data row0 col1\" >1.000000</td>\n",
              "      <td id=\"T_d2f04_row0_col2\" class=\"data row0 col2\" >-0.000389</td>\n",
              "      <td id=\"T_d2f04_row0_col3\" class=\"data row0 col3\" >-0.000690</td>\n",
              "      <td id=\"T_d2f04_row0_col4\" class=\"data row0 col4\" >0.002455</td>\n",
              "      <td id=\"T_d2f04_row0_col5\" class=\"data row0 col5\" >0.999999</td>\n",
              "      <td id=\"T_d2f04_row0_col6\" class=\"data row0 col6\" >0.999985</td>\n",
              "      <td id=\"T_d2f04_row0_col7\" class=\"data row0 col7\" >0.002650</td>\n",
              "      <td id=\"T_d2f04_row0_col8\" class=\"data row0 col8\" >0.004748</td>\n",
              "    </tr>\n",
              "    <tr>\n",
              "      <th id=\"T_d2f04_level0_row1\" class=\"row_heading level0 row1\" >TRANSACTION_ID</th>\n",
              "      <td id=\"T_d2f04_row1_col0\" class=\"data row1 col0\" >1.000000</td>\n",
              "      <td id=\"T_d2f04_row1_col1\" class=\"data row1 col1\" >1.000000</td>\n",
              "      <td id=\"T_d2f04_row1_col2\" class=\"data row1 col2\" >-0.000389</td>\n",
              "      <td id=\"T_d2f04_row1_col3\" class=\"data row1 col3\" >-0.000690</td>\n",
              "      <td id=\"T_d2f04_row1_col4\" class=\"data row1 col4\" >0.002455</td>\n",
              "      <td id=\"T_d2f04_row1_col5\" class=\"data row1 col5\" >0.999999</td>\n",
              "      <td id=\"T_d2f04_row1_col6\" class=\"data row1 col6\" >0.999985</td>\n",
              "      <td id=\"T_d2f04_row1_col7\" class=\"data row1 col7\" >0.002650</td>\n",
              "      <td id=\"T_d2f04_row1_col8\" class=\"data row1 col8\" >0.004748</td>\n",
              "    </tr>\n",
              "    <tr>\n",
              "      <th id=\"T_d2f04_level0_row2\" class=\"row_heading level0 row2\" >CUSTOMER_ID</th>\n",
              "      <td id=\"T_d2f04_row2_col0\" class=\"data row2 col0\" >-0.000389</td>\n",
              "      <td id=\"T_d2f04_row2_col1\" class=\"data row2 col1\" >-0.000389</td>\n",
              "      <td id=\"T_d2f04_row2_col2\" class=\"data row2 col2\" >1.000000</td>\n",
              "      <td id=\"T_d2f04_row2_col3\" class=\"data row2 col3\" >0.000389</td>\n",
              "      <td id=\"T_d2f04_row2_col4\" class=\"data row2 col4\" >-0.002633</td>\n",
              "      <td id=\"T_d2f04_row2_col5\" class=\"data row2 col5\" >-0.000389</td>\n",
              "      <td id=\"T_d2f04_row2_col6\" class=\"data row2 col6\" >-0.000389</td>\n",
              "      <td id=\"T_d2f04_row2_col7\" class=\"data row2 col7\" >0.004353</td>\n",
              "      <td id=\"T_d2f04_row2_col8\" class=\"data row2 col8\" >0.002359</td>\n",
              "    </tr>\n",
              "    <tr>\n",
              "      <th id=\"T_d2f04_level0_row3\" class=\"row_heading level0 row3\" >TERMINAL_ID</th>\n",
              "      <td id=\"T_d2f04_row3_col0\" class=\"data row3 col0\" >-0.000690</td>\n",
              "      <td id=\"T_d2f04_row3_col1\" class=\"data row3 col1\" >-0.000690</td>\n",
              "      <td id=\"T_d2f04_row3_col2\" class=\"data row3 col2\" >0.000389</td>\n",
              "      <td id=\"T_d2f04_row3_col3\" class=\"data row3 col3\" >1.000000</td>\n",
              "      <td id=\"T_d2f04_row3_col4\" class=\"data row3 col4\" >-0.000758</td>\n",
              "      <td id=\"T_d2f04_row3_col5\" class=\"data row3 col5\" >-0.000690</td>\n",
              "      <td id=\"T_d2f04_row3_col6\" class=\"data row3 col6\" >-0.000690</td>\n",
              "      <td id=\"T_d2f04_row3_col7\" class=\"data row3 col7\" >-0.002160</td>\n",
              "      <td id=\"T_d2f04_row3_col8\" class=\"data row3 col8\" >-0.003291</td>\n",
              "    </tr>\n",
              "    <tr>\n",
              "      <th id=\"T_d2f04_level0_row4\" class=\"row_heading level0 row4\" >TX_AMOUNT</th>\n",
              "      <td id=\"T_d2f04_row4_col0\" class=\"data row4 col0\" >0.002455</td>\n",
              "      <td id=\"T_d2f04_row4_col1\" class=\"data row4 col1\" >0.002455</td>\n",
              "      <td id=\"T_d2f04_row4_col2\" class=\"data row4 col2\" >-0.002633</td>\n",
              "      <td id=\"T_d2f04_row4_col3\" class=\"data row4 col3\" >-0.000758</td>\n",
              "      <td id=\"T_d2f04_row4_col4\" class=\"data row4 col4\" >1.000000</td>\n",
              "      <td id=\"T_d2f04_row4_col5\" class=\"data row4 col5\" >0.002453</td>\n",
              "      <td id=\"T_d2f04_row4_col6\" class=\"data row4 col6\" >0.002449</td>\n",
              "      <td id=\"T_d2f04_row4_col7\" class=\"data row4 col7\" >0.313427</td>\n",
              "      <td id=\"T_d2f04_row4_col8\" class=\"data row4 col8\" >0.416883</td>\n",
              "    </tr>\n",
              "    <tr>\n",
              "      <th id=\"T_d2f04_level0_row5\" class=\"row_heading level0 row5\" >TX_TIME_SECONDS</th>\n",
              "      <td id=\"T_d2f04_row5_col0\" class=\"data row5 col0\" >0.999999</td>\n",
              "      <td id=\"T_d2f04_row5_col1\" class=\"data row5 col1\" >0.999999</td>\n",
              "      <td id=\"T_d2f04_row5_col2\" class=\"data row5 col2\" >-0.000389</td>\n",
              "      <td id=\"T_d2f04_row5_col3\" class=\"data row5 col3\" >-0.000690</td>\n",
              "      <td id=\"T_d2f04_row5_col4\" class=\"data row5 col4\" >0.002453</td>\n",
              "      <td id=\"T_d2f04_row5_col5\" class=\"data row5 col5\" >1.000000</td>\n",
              "      <td id=\"T_d2f04_row5_col6\" class=\"data row5 col6\" >0.999992</td>\n",
              "      <td id=\"T_d2f04_row5_col7\" class=\"data row5 col7\" >0.002650</td>\n",
              "      <td id=\"T_d2f04_row5_col8\" class=\"data row5 col8\" >0.004746</td>\n",
              "    </tr>\n",
              "    <tr>\n",
              "      <th id=\"T_d2f04_level0_row6\" class=\"row_heading level0 row6\" >TX_TIME_DAYS</th>\n",
              "      <td id=\"T_d2f04_row6_col0\" class=\"data row6 col0\" >0.999985</td>\n",
              "      <td id=\"T_d2f04_row6_col1\" class=\"data row6 col1\" >0.999985</td>\n",
              "      <td id=\"T_d2f04_row6_col2\" class=\"data row6 col2\" >-0.000389</td>\n",
              "      <td id=\"T_d2f04_row6_col3\" class=\"data row6 col3\" >-0.000690</td>\n",
              "      <td id=\"T_d2f04_row6_col4\" class=\"data row6 col4\" >0.002449</td>\n",
              "      <td id=\"T_d2f04_row6_col5\" class=\"data row6 col5\" >0.999992</td>\n",
              "      <td id=\"T_d2f04_row6_col6\" class=\"data row6 col6\" >1.000000</td>\n",
              "      <td id=\"T_d2f04_row6_col7\" class=\"data row6 col7\" >0.002650</td>\n",
              "      <td id=\"T_d2f04_row6_col8\" class=\"data row6 col8\" >0.004746</td>\n",
              "    </tr>\n",
              "    <tr>\n",
              "      <th id=\"T_d2f04_level0_row7\" class=\"row_heading level0 row7\" >TX_FRAUD</th>\n",
              "      <td id=\"T_d2f04_row7_col0\" class=\"data row7 col0\" >0.002650</td>\n",
              "      <td id=\"T_d2f04_row7_col1\" class=\"data row7 col1\" >0.002650</td>\n",
              "      <td id=\"T_d2f04_row7_col2\" class=\"data row7 col2\" >0.004353</td>\n",
              "      <td id=\"T_d2f04_row7_col3\" class=\"data row7 col3\" >-0.002160</td>\n",
              "      <td id=\"T_d2f04_row7_col4\" class=\"data row7 col4\" >0.313427</td>\n",
              "      <td id=\"T_d2f04_row7_col5\" class=\"data row7 col5\" >0.002650</td>\n",
              "      <td id=\"T_d2f04_row7_col6\" class=\"data row7 col6\" >0.002650</td>\n",
              "      <td id=\"T_d2f04_row7_col7\" class=\"data row7 col7\" >1.000000</td>\n",
              "      <td id=\"T_d2f04_row7_col8\" class=\"data row7 col8\" >0.949008</td>\n",
              "    </tr>\n",
              "    <tr>\n",
              "      <th id=\"T_d2f04_level0_row8\" class=\"row_heading level0 row8\" >TX_FRAUD_SCENARIO</th>\n",
              "      <td id=\"T_d2f04_row8_col0\" class=\"data row8 col0\" >0.004748</td>\n",
              "      <td id=\"T_d2f04_row8_col1\" class=\"data row8 col1\" >0.004748</td>\n",
              "      <td id=\"T_d2f04_row8_col2\" class=\"data row8 col2\" >0.002359</td>\n",
              "      <td id=\"T_d2f04_row8_col3\" class=\"data row8 col3\" >-0.003291</td>\n",
              "      <td id=\"T_d2f04_row8_col4\" class=\"data row8 col4\" >0.416883</td>\n",
              "      <td id=\"T_d2f04_row8_col5\" class=\"data row8 col5\" >0.004746</td>\n",
              "      <td id=\"T_d2f04_row8_col6\" class=\"data row8 col6\" >0.004746</td>\n",
              "      <td id=\"T_d2f04_row8_col7\" class=\"data row8 col7\" >0.949008</td>\n",
              "      <td id=\"T_d2f04_row8_col8\" class=\"data row8 col8\" >1.000000</td>\n",
              "    </tr>\n",
              "  </tbody>\n",
              "</table>\n"
            ]
          },
          "metadata": {},
          "execution_count": 7
        }
      ]
    },
    {
      "cell_type": "markdown",
      "source": [
        "# Exploratory Data Analysis "
      ],
      "metadata": {
        "id": "lAzoHRlkjWog"
      }
    },
    {
      "cell_type": "code",
      "source": [
        "count1 = 0 \n",
        "count0 = 0\n",
        "for i in df['TX_FRAUD'].values:\n",
        "    if i == 1:\n",
        "        count1 += 1\n",
        "    else:\n",
        "        count0 += 1\n",
        "        \n",
        "count1 = (count1/len(df['TX_FRAUD']))*100\n",
        "count0 = (count0/len(df['TX_FRAUD']))*100\n",
        "\n",
        "x = ['Fraudulent Transaction(TARGET=1)','Legitimate Transaction(TARGET=0)']\n",
        "y = [count1, count0]\n",
        "\n",
        "fig1, ax1 = plt.subplots()\n",
        "ax1.pie(y, labels=x, autopct='%1.1f%%',\n",
        "        shadow=True, startangle=110)\n",
        "ax1.axis('equal')  # Equal aspect ratio ensures that pie is drawn as a circle.\n",
        "plt.title('Data imbalance',fontsize=25)\n",
        "plt.show()"
      ],
      "metadata": {
        "colab": {
          "base_uri": "https://localhost:8080/",
          "height": 273
        },
        "id": "ZKgIFClRjBYM",
        "outputId": "938bef47-30f2-44ae-c46c-45c90ca6ab19"
      },
      "execution_count": 13,
      "outputs": [
        {
          "output_type": "display_data",
          "data": {
            "text/plain": [
              "<Figure size 432x288 with 1 Axes>"
            ],
            "image/png": "[encoded data removed]"
          },
          "metadata": {}
        }
      ]
    },
    {
      "cell_type": "markdown",
      "source": [
        "This pie chart shows that the dataset is highly unbalanced because only 13.5% is fraudulent transaction while 86.5% is legitimate transaction which means before going deeply into the model selection , it will be necessary to balance it in order to ensure accurate modeling results."
      ],
      "metadata": {
        "id": "v31iE_Y2LicS"
      }
    },
    {
      "cell_type": "code",
      "source": [
        "df = df[(df['TX_FRAUD_SCENARIO'] != 0) & (df['TX_AMOUNT'] != 0)]\n",
        "grouped = df.groupby(\"TX_FRAUD_SCENARIO\").size().reset_index(name=\"count\")\n",
        "\n",
        "fig = px.bar(grouped, x=\"TX_FRAUD_SCENARIO\", y=\"count\", color=\"TX_FRAUD_SCENARIO\",\n",
        "             labels={\"TX_FRAUD_SCENARIO\": \"Fraud Scenario\", \"count\": \"Number of Transactions\"})\n",
        "\n",
        "fig.show()"
      ],
      "metadata": {
        "colab": {
          "base_uri": "https://localhost:8080/",
          "height": 542
        },
        "id": "l0R9AozIjBZl",
        "outputId": "b36d9200-bfdd-4baa-ff38-c69a580ce292"
      },
      "execution_count": 14,
      "outputs": [
        {
          "output_type": "display_data",
          "data": {
            "text/html": [
              "<html>\n",
              "<head><meta charset=\"utf-8\" /></head>\n",
              "<body>\n",
              "    <div>            <script src=\"https://cdnjs.cloudflare.com/ajax/libs/mathjax/2.7.5/MathJax.js?config=TeX-AMS-MML_SVG\"></script><script type=\"text/javascript\">if (window.MathJax) {MathJax.Hub.Config({SVG: {font: \"STIX-Web\"}});}</script>                <script type=\"text/javascript\">window.PlotlyConfig = {MathJaxConfig: 'local'};</script>\n",
              "        <script src=\"https://cdn.plot.ly/plotly-2.8.3.min.js\"></script>                <div id=\"562575e1-2d30-4f35-8839-b7c83cd932ee\" class=\"plotly-graph-div\" style=\"height:525px; width:100%;\"></div>            <script type=\"text/javascript\">                                    window.PLOTLYENV=window.PLOTLYENV || {};                                    if (document.getElementById(\"562575e1-2d30-4f35-8839-b7c83cd932ee\")) {                    Plotly.newPlot(                        \"562575e1-2d30-4f35-8839-b7c83cd932ee\",                        [{\"alignmentgroup\":\"True\",\"hovertemplate\":\"Fraud Scenario=%{marker.color}<br>Number of Transactions=%{y}<extra></extra>\",\"legendgroup\":\"\",\"marker\":{\"color\":[1,2,3],\"coloraxis\":\"coloraxis\",\"pattern\":{\"shape\":\"\"}},\"name\":\"\",\"offsetgroup\":\"\",\"orientation\":\"v\",\"showlegend\":false,\"textposition\":\"auto\",\"x\":[1,2,3],\"xaxis\":\"x\",\"y\":[222261,9077,4631],\"yaxis\":\"y\",\"type\":\"bar\"}],                        {\"template\":{\"data\":{\"bar\":[{\"error_x\":{\"color\":\"#2a3f5f\"},\"error_y\":{\"color\":\"#2a3f5f\"},\"marker\":{\"line\":{\"color\":\"#E5ECF6\",\"width\":0.5},\"pattern\":{\"fillmode\":\"overlay\",\"size\":10,\"solidity\":0.2}},\"type\":\"bar\"}],\"barpolar\":[{\"marker\":{\"line\":{\"color\":\"#E5ECF6\",\"width\":0.5},\"pattern\":{\"fillmode\":\"overlay\",\"size\":10,\"solidity\":0.2}},\"type\":\"barpolar\"}],\"carpet\":[{\"aaxis\":{\"endlinecolor\":\"#2a3f5f\",\"gridcolor\":\"white\",\"linecolor\":\"white\",\"minorgridcolor\":\"white\",\"startlinecolor\":\"#2a3f5f\"},\"baxis\":{\"endlinecolor\":\"#2a3f5f\",\"gridcolor\":\"white\",\"linecolor\":\"white\",\"minorgridcolor\":\"white\",\"startlinecolor\":\"#2a3f5f\"},\"type\":\"carpet\"}],\"choropleth\":[{\"colorbar\":{\"outlinewidth\":0,\"ticks\":\"\"},\"type\":\"choropleth\"}],\"contour\":[{\"colorbar\":{\"outlinewidth\":0,\"ticks\":\"\"},\"colorscale\":[[0.0,\"#0d0887\"],[0.1111111111111111,\"#46039f\"],[0.2222222222222222,\"#7201a8\"],[0.3333333333333333,\"#9c179e\"],[0.4444444444444444,\"#bd3786\"],[0.5555555555555556,\"#d8576b\"],[0.6666666666666666,\"#ed7953\"],[0.7777777777777778,\"#fb9f3a\"],[0.8888888888888888,\"#fdca26\"],[1.0,\"#f0f921\"]],\"type\":\"contour\"}],\"contourcarpet\":[{\"colorbar\":{\"outlinewidth\":0,\"ticks\":\"\"},\"type\":\"contourcarpet\"}],\"heatmap\":[{\"colorbar\":{\"outlinewidth\":0,\"ticks\":\"\"},\"colorscale\":[[0.0,\"#0d0887\"],[0.1111111111111111,\"#46039f\"],[0.2222222222222222,\"#7201a8\"],[0.3333333333333333,\"#9c179e\"],[0.4444444444444444,\"#bd3786\"],[0.5555555555555556,\"#d8576b\"],[0.6666666666666666,\"#ed7953\"],[0.7777777777777778,\"#fb9f3a\"],[0.8888888888888888,\"#fdca26\"],[1.0,\"#f0f921\"]],\"type\":\"heatmap\"}],\"heatmapgl\":[{\"colorbar\":{\"outlinewidth\":0,\"ticks\":\"\"},\"colorscale\":[[0.0,\"#0d0887\"],[0.1111111111111111,\"#46039f\"],[0.2222222222222222,\"#7201a8\"],[0.3333333333333333,\"#9c179e\"],[0.4444444444444444,\"#bd3786\"],[0.5555555555555556,\"#d8576b\"],[0.6666666666666666,\"#ed7953\"],[0.7777777777777778,\"#fb9f3a\"],[0.8888888888888888,\"#fdca26\"],[1.0,\"#f0f921\"]],\"type\":\"heatmapgl\"}],\"histogram\":[{\"marker\":{\"pattern\":{\"fillmode\":\"overlay\",\"size\":10,\"solidity\":0.2}},\"type\":\"histogram\"}],\"histogram2d\":[{\"colorbar\":{\"outlinewidth\":0,\"ticks\":\"\"},\"colorscale\":[[0.0,\"#0d0887\"],[0.1111111111111111,\"#46039f\"],[0.2222222222222222,\"#7201a8\"],[0.3333333333333333,\"#9c179e\"],[0.4444444444444444,\"#bd3786\"],[0.5555555555555556,\"#d8576b\"],[0.6666666666666666,\"#ed7953\"],[0.7777777777777778,\"#fb9f3a\"],[0.8888888888888888,\"#fdca26\"],[1.0,\"#f0f921\"]],\"type\":\"histogram2d\"}],\"histogram2dcontour\":[{\"colorbar\":{\"outlinewidth\":0,\"ticks\":\"\"},\"colorscale\":[[0.0,\"#0d0887\"],[0.1111111111111111,\"#46039f\"],[0.2222222222222222,\"#7201a8\"],[0.3333333333333333,\"#9c179e\"],[0.4444444444444444,\"#bd3786\"],[0.5555555555555556,\"#d8576b\"],[0.6666666666666666,\"#ed7953\"],[0.7777777777777778,\"#fb9f3a\"],[0.8888888888888888,\"#fdca26\"],[1.0,\"#f0f921\"]],\"type\":\"histogram2dcontour\"}],\"mesh3d\":[{\"colorbar\":{\"outlinewidth\":0,\"ticks\":\"\"},\"type\":\"mesh3d\"}],\"parcoords\":[{\"line\":{\"colorbar\":{\"outlinewidth\":0,\"ticks\":\"\"}},\"type\":\"parcoords\"}],\"pie\":[{\"automargin\":true,\"type\":\"pie\"}],\"scatter\":[{\"marker\":{\"colorbar\":{\"outlinewidth\":0,\"ticks\":\"\"}},\"type\":\"scatter\"}],\"scatter3d\":[{\"line\":{\"colorbar\":{\"outlinewidth\":0,\"ticks\":\"\"}},\"marker\":{\"colorbar\":{\"outlinewidth\":0,\"ticks\":\"\"}},\"type\":\"scatter3d\"}],\"scattercarpet\":[{\"marker\":{\"colorbar\":{\"outlinewidth\":0,\"ticks\":\"\"}},\"type\":\"scattercarpet\"}],\"scattergeo\":[{\"marker\":{\"colorbar\":{\"outlinewidth\":0,\"ticks\":\"\"}},\"type\":\"scattergeo\"}],\"scattergl\":[{\"marker\":{\"colorbar\":{\"outlinewidth\":0,\"ticks\":\"\"}},\"type\":\"scattergl\"}],\"scattermapbox\":[{\"marker\":{\"colorbar\":{\"outlinewidth\":0,\"ticks\":\"\"}},\"type\":\"scattermapbox\"}],\"scatterpolar\":[{\"marker\":{\"colorbar\":{\"outlinewidth\":0,\"ticks\":\"\"}},\"type\":\"scatterpolar\"}],\"scatterpolargl\":[{\"marker\":{\"colorbar\":{\"outlinewidth\":0,\"ticks\":\"\"}},\"type\":\"scatterpolargl\"}],\"scatterternary\":[{\"marker\":{\"colorbar\":{\"outlinewidth\":0,\"ticks\":\"\"}},\"type\":\"scatterternary\"}],\"surface\":[{\"colorbar\":{\"outlinewidth\":0,\"ticks\":\"\"},\"colorscale\":[[0.0,\"#0d0887\"],[0.1111111111111111,\"#46039f\"],[0.2222222222222222,\"#7201a8\"],[0.3333333333333333,\"#9c179e\"],[0.4444444444444444,\"#bd3786\"],[0.5555555555555556,\"#d8576b\"],[0.6666666666666666,\"#ed7953\"],[0.7777777777777778,\"#fb9f3a\"],[0.8888888888888888,\"#fdca26\"],[1.0,\"#f0f921\"]],\"type\":\"surface\"}],\"table\":[{\"cells\":{\"fill\":{\"color\":\"#EBF0F8\"},\"line\":{\"color\":\"white\"}},\"header\":{\"fill\":{\"color\":\"#C8D4E3\"},\"line\":{\"color\":\"white\"}},\"type\":\"table\"}]},\"layout\":{\"annotationdefaults\":{\"arrowcolor\":\"#2a3f5f\",\"arrowhead\":0,\"arrowwidth\":1},\"autotypenumbers\":\"strict\",\"coloraxis\":{\"colorbar\":{\"outlinewidth\":0,\"ticks\":\"\"}},\"colorscale\":{\"diverging\":[[0,\"#8e0152\"],[0.1,\"#c51b7d\"],[0.2,\"#de77ae\"],[0.3,\"#f1b6da\"],[0.4,\"#fde0ef\"],[0.5,\"#f7f7f7\"],[0.6,\"#e6f5d0\"],[0.7,\"#b8e186\"],[0.8,\"#7fbc41\"],[0.9,\"#4d9221\"],[1,\"#276419\"]],\"sequential\":[[0.0,\"#0d0887\"],[0.1111111111111111,\"#46039f\"],[0.2222222222222222,\"#7201a8\"],[0.3333333333333333,\"#9c179e\"],[0.4444444444444444,\"#bd3786\"],[0.5555555555555556,\"#d8576b\"],[0.6666666666666666,\"#ed7953\"],[0.7777777777777778,\"#fb9f3a\"],[0.8888888888888888,\"#fdca26\"],[1.0,\"#f0f921\"]],\"sequentialminus\":[[0.0,\"#0d0887\"],[0.1111111111111111,\"#46039f\"],[0.2222222222222222,\"#7201a8\"],[0.3333333333333333,\"#9c179e\"],[0.4444444444444444,\"#bd3786\"],[0.5555555555555556,\"#d8576b\"],[0.6666666666666666,\"#ed7953\"],[0.7777777777777778,\"#fb9f3a\"],[0.8888888888888888,\"#fdca26\"],[1.0,\"#f0f921\"]]},\"colorway\":[\"#636efa\",\"#EF553B\",\"#00cc96\",\"#ab63fa\",\"#FFA15A\",\"#19d3f3\",\"#FF6692\",\"#B6E880\",\"#FF97FF\",\"#FECB52\"],\"font\":{\"color\":\"#2a3f5f\"},\"geo\":{\"bgcolor\":\"white\",\"lakecolor\":\"white\",\"landcolor\":\"#E5ECF6\",\"showlakes\":true,\"showland\":true,\"subunitcolor\":\"white\"},\"hoverlabel\":{\"align\":\"left\"},\"hovermode\":\"closest\",\"mapbox\":{\"style\":\"light\"},\"paper_bgcolor\":\"white\",\"plot_bgcolor\":\"#E5ECF6\",\"polar\":{\"angularaxis\":{\"gridcolor\":\"white\",\"linecolor\":\"white\",\"ticks\":\"\"},\"bgcolor\":\"#E5ECF6\",\"radialaxis\":{\"gridcolor\":\"white\",\"linecolor\":\"white\",\"ticks\":\"\"}},\"scene\":{\"xaxis\":{\"backgroundcolor\":\"#E5ECF6\",\"gridcolor\":\"white\",\"gridwidth\":2,\"linecolor\":\"white\",\"showbackground\":true,\"ticks\":\"\",\"zerolinecolor\":\"white\"},\"yaxis\":{\"backgroundcolor\":\"#E5ECF6\",\"gridcolor\":\"white\",\"gridwidth\":2,\"linecolor\":\"white\",\"showbackground\":true,\"ticks\":\"\",\"zerolinecolor\":\"white\"},\"zaxis\":{\"backgroundcolor\":\"#E5ECF6\",\"gridcolor\":\"white\",\"gridwidth\":2,\"linecolor\":\"white\",\"showbackground\":true,\"ticks\":\"\",\"zerolinecolor\":\"white\"}},\"shapedefaults\":{\"line\":{\"color\":\"#2a3f5f\"}},\"ternary\":{\"aaxis\":{\"gridcolor\":\"white\",\"linecolor\":\"white\",\"ticks\":\"\"},\"baxis\":{\"gridcolor\":\"white\",\"linecolor\":\"white\",\"ticks\":\"\"},\"bgcolor\":\"#E5ECF6\",\"caxis\":{\"gridcolor\":\"white\",\"linecolor\":\"white\",\"ticks\":\"\"}},\"title\":{\"x\":0.05},\"xaxis\":{\"automargin\":true,\"gridcolor\":\"white\",\"linecolor\":\"white\",\"ticks\":\"\",\"title\":{\"standoff\":15},\"zerolinecolor\":\"white\",\"zerolinewidth\":2},\"yaxis\":{\"automargin\":true,\"gridcolor\":\"white\",\"linecolor\":\"white\",\"ticks\":\"\",\"title\":{\"standoff\":15},\"zerolinecolor\":\"white\",\"zerolinewidth\":2}}},\"xaxis\":{\"anchor\":\"y\",\"domain\":[0.0,1.0],\"title\":{\"text\":\"Fraud Scenario\"}},\"yaxis\":{\"anchor\":\"x\",\"domain\":[0.0,1.0],\"title\":{\"text\":\"Number of Transactions\"}},\"coloraxis\":{\"colorbar\":{\"title\":{\"text\":\"Fraud Scenario\"}},\"colorscale\":[[0.0,\"#0d0887\"],[0.1111111111111111,\"#46039f\"],[0.2222222222222222,\"#7201a8\"],[0.3333333333333333,\"#9c179e\"],[0.4444444444444444,\"#bd3786\"],[0.5555555555555556,\"#d8576b\"],[0.6666666666666666,\"#ed7953\"],[0.7777777777777778,\"#fb9f3a\"],[0.8888888888888888,\"#fdca26\"],[1.0,\"#f0f921\"]]},\"legend\":{\"tracegroupgap\":0},\"margin\":{\"t\":60},\"barmode\":\"relative\"},                        {\"responsive\": true}                    ).then(function(){\n",
              "                            \n",
              "var gd = document.getElementById('562575e1-2d30-4f35-8839-b7c83cd932ee');\n",
              "var x = new MutationObserver(function (mutations, observer) {{\n",
              "        var display = window.getComputedStyle(gd).display;\n",
              "        if (!display || display === 'none') {{\n",
              "            console.log([gd, 'removed!']);\n",
              "            Plotly.purge(gd);\n",
              "            observer.disconnect();\n",
              "        }}\n",
              "}});\n",
              "\n",
              "// Listen for the removal of the full notebook cells\n",
              "var notebookContainer = gd.closest('#notebook-container');\n",
              "if (notebookContainer) {{\n",
              "    x.observe(notebookContainer, {childList: true});\n",
              "}}\n",
              "\n",
              "// Listen for the clearing of the current output cell\n",
              "var outputEl = gd.closest('.output');\n",
              "if (outputEl) {{\n",
              "    x.observe(outputEl, {childList: true});\n",
              "}}\n",
              "\n",
              "                        })                };                            </script>        </div>\n",
              "</body>\n",
              "</html>"
            ]
          },
          "metadata": {}
        }
      ]
    },
    {
      "cell_type": "markdown",
      "source": [
        "This bar chart represents the fraud scenario and the corresponding number of transactions. The output shows the highest number of transactions occured due to type 1 of fraud scenario while the least number of transactions occured due to type 3 of fraud scenario."
      ],
      "metadata": {
        "id": "n-lfLlZtMN3A"
      }
    },
    {
      "cell_type": "code",
      "source": [
        "df = df[(df['TX_FRAUD_SCENARIO'] != 0) & (df['TX_AMOUNT'] != 0)]\n",
        "\n",
        "grouped = df.groupby('TX_FRAUD_SCENARIO')['TX_AMOUNT'].mean().reset_index(name='mean_amount')\n",
        "\n",
        "fig = px.bar(grouped, x='TX_FRAUD_SCENARIO', y='mean_amount', labels={'TX_FRAUD_SCENARIO':'Fraud Scenario','mean_amount':'Average Transaction Amount'})\n",
        "\n",
        "fig.show()"
      ],
      "metadata": {
        "colab": {
          "base_uri": "https://localhost:8080/",
          "height": 542
        },
        "id": "mV9yaWPEjBb9",
        "outputId": "0e40f3cd-8f86-4e5f-f946-20e3c054ee2c"
      },
      "execution_count": 15,
      "outputs": [
        {
          "output_type": "display_data",
          "data": {
            "text/html": [
              "<html>\n",
              "<head><meta charset=\"utf-8\" /></head>\n",
              "<body>\n",
              "    <div>            <script src=\"https://cdnjs.cloudflare.com/ajax/libs/mathjax/2.7.5/MathJax.js?config=TeX-AMS-MML_SVG\"></script><script type=\"text/javascript\">if (window.MathJax) {MathJax.Hub.Config({SVG: {font: \"STIX-Web\"}});}</script>                <script type=\"text/javascript\">window.PlotlyConfig = {MathJaxConfig: 'local'};</script>\n",
              "        <script src=\"https://cdn.plot.ly/plotly-2.8.3.min.js\"></script>                <div id=\"0e76c5ec-f328-4497-87e2-3ab0b199a4be\" class=\"plotly-graph-div\" style=\"height:525px; width:100%;\"></div>            <script type=\"text/javascript\">                                    window.PLOTLYENV=window.PLOTLYENV || {};                                    if (document.getElementById(\"0e76c5ec-f328-4497-87e2-3ab0b199a4be\")) {                    Plotly.newPlot(                        \"0e76c5ec-f328-4497-87e2-3ab0b199a4be\",                        [{\"alignmentgroup\":\"True\",\"hovertemplate\":\"Fraud Scenario=%{x}<br>Average Transaction Amount=%{y}<extra></extra>\",\"legendgroup\":\"\",\"marker\":{\"color\":\"#636efa\",\"pattern\":{\"shape\":\"\"}},\"name\":\"\",\"offsetgroup\":\"\",\"orientation\":\"v\",\"showlegend\":false,\"textposition\":\"auto\",\"x\":[1,2,3],\"xaxis\":\"x\",\"y\":[1281.7617225694119,515.0349080092542,12761.352299719283],\"yaxis\":\"y\",\"type\":\"bar\"}],                        {\"template\":{\"data\":{\"bar\":[{\"error_x\":{\"color\":\"#2a3f5f\"},\"error_y\":{\"color\":\"#2a3f5f\"},\"marker\":{\"line\":{\"color\":\"#E5ECF6\",\"width\":0.5},\"pattern\":{\"fillmode\":\"overlay\",\"size\":10,\"solidity\":0.2}},\"type\":\"bar\"}],\"barpolar\":[{\"marker\":{\"line\":{\"color\":\"#E5ECF6\",\"width\":0.5},\"pattern\":{\"fillmode\":\"overlay\",\"size\":10,\"solidity\":0.2}},\"type\":\"barpolar\"}],\"carpet\":[{\"aaxis\":{\"endlinecolor\":\"#2a3f5f\",\"gridcolor\":\"white\",\"linecolor\":\"white\",\"minorgridcolor\":\"white\",\"startlinecolor\":\"#2a3f5f\"},\"baxis\":{\"endlinecolor\":\"#2a3f5f\",\"gridcolor\":\"white\",\"linecolor\":\"white\",\"minorgridcolor\":\"white\",\"startlinecolor\":\"#2a3f5f\"},\"type\":\"carpet\"}],\"choropleth\":[{\"colorbar\":{\"outlinewidth\":0,\"ticks\":\"\"},\"type\":\"choropleth\"}],\"contour\":[{\"colorbar\":{\"outlinewidth\":0,\"ticks\":\"\"},\"colorscale\":[[0.0,\"#0d0887\"],[0.1111111111111111,\"#46039f\"],[0.2222222222222222,\"#7201a8\"],[0.3333333333333333,\"#9c179e\"],[0.4444444444444444,\"#bd3786\"],[0.5555555555555556,\"#d8576b\"],[0.6666666666666666,\"#ed7953\"],[0.7777777777777778,\"#fb9f3a\"],[0.8888888888888888,\"#fdca26\"],[1.0,\"#f0f921\"]],\"type\":\"contour\"}],\"contourcarpet\":[{\"colorbar\":{\"outlinewidth\":0,\"ticks\":\"\"},\"type\":\"contourcarpet\"}],\"heatmap\":[{\"colorbar\":{\"outlinewidth\":0,\"ticks\":\"\"},\"colorscale\":[[0.0,\"#0d0887\"],[0.1111111111111111,\"#46039f\"],[0.2222222222222222,\"#7201a8\"],[0.3333333333333333,\"#9c179e\"],[0.4444444444444444,\"#bd3786\"],[0.5555555555555556,\"#d8576b\"],[0.6666666666666666,\"#ed7953\"],[0.7777777777777778,\"#fb9f3a\"],[0.8888888888888888,\"#fdca26\"],[1.0,\"#f0f921\"]],\"type\":\"heatmap\"}],\"heatmapgl\":[{\"colorbar\":{\"outlinewidth\":0,\"ticks\":\"\"},\"colorscale\":[[0.0,\"#0d0887\"],[0.1111111111111111,\"#46039f\"],[0.2222222222222222,\"#7201a8\"],[0.3333333333333333,\"#9c179e\"],[0.4444444444444444,\"#bd3786\"],[0.5555555555555556,\"#d8576b\"],[0.6666666666666666,\"#ed7953\"],[0.7777777777777778,\"#fb9f3a\"],[0.8888888888888888,\"#fdca26\"],[1.0,\"#f0f921\"]],\"type\":\"heatmapgl\"}],\"histogram\":[{\"marker\":{\"pattern\":{\"fillmode\":\"overlay\",\"size\":10,\"solidity\":0.2}},\"type\":\"histogram\"}],\"histogram2d\":[{\"colorbar\":{\"outlinewidth\":0,\"ticks\":\"\"},\"colorscale\":[[0.0,\"#0d0887\"],[0.1111111111111111,\"#46039f\"],[0.2222222222222222,\"#7201a8\"],[0.3333333333333333,\"#9c179e\"],[0.4444444444444444,\"#bd3786\"],[0.5555555555555556,\"#d8576b\"],[0.6666666666666666,\"#ed7953\"],[0.7777777777777778,\"#fb9f3a\"],[0.8888888888888888,\"#fdca26\"],[1.0,\"#f0f921\"]],\"type\":\"histogram2d\"}],\"histogram2dcontour\":[{\"colorbar\":{\"outlinewidth\":0,\"ticks\":\"\"},\"colorscale\":[[0.0,\"#0d0887\"],[0.1111111111111111,\"#46039f\"],[0.2222222222222222,\"#7201a8\"],[0.3333333333333333,\"#9c179e\"],[0.4444444444444444,\"#bd3786\"],[0.5555555555555556,\"#d8576b\"],[0.6666666666666666,\"#ed7953\"],[0.7777777777777778,\"#fb9f3a\"],[0.8888888888888888,\"#fdca26\"],[1.0,\"#f0f921\"]],\"type\":\"histogram2dcontour\"}],\"mesh3d\":[{\"colorbar\":{\"outlinewidth\":0,\"ticks\":\"\"},\"type\":\"mesh3d\"}],\"parcoords\":[{\"line\":{\"colorbar\":{\"outlinewidth\":0,\"ticks\":\"\"}},\"type\":\"parcoords\"}],\"pie\":[{\"automargin\":true,\"type\":\"pie\"}],\"scatter\":[{\"marker\":{\"colorbar\":{\"outlinewidth\":0,\"ticks\":\"\"}},\"type\":\"scatter\"}],\"scatter3d\":[{\"line\":{\"colorbar\":{\"outlinewidth\":0,\"ticks\":\"\"}},\"marker\":{\"colorbar\":{\"outlinewidth\":0,\"ticks\":\"\"}},\"type\":\"scatter3d\"}],\"scattercarpet\":[{\"marker\":{\"colorbar\":{\"outlinewidth\":0,\"ticks\":\"\"}},\"type\":\"scattercarpet\"}],\"scattergeo\":[{\"marker\":{\"colorbar\":{\"outlinewidth\":0,\"ticks\":\"\"}},\"type\":\"scattergeo\"}],\"scattergl\":[{\"marker\":{\"colorbar\":{\"outlinewidth\":0,\"ticks\":\"\"}},\"type\":\"scattergl\"}],\"scattermapbox\":[{\"marker\":{\"colorbar\":{\"outlinewidth\":0,\"ticks\":\"\"}},\"type\":\"scattermapbox\"}],\"scatterpolar\":[{\"marker\":{\"colorbar\":{\"outlinewidth\":0,\"ticks\":\"\"}},\"type\":\"scatterpolar\"}],\"scatterpolargl\":[{\"marker\":{\"colorbar\":{\"outlinewidth\":0,\"ticks\":\"\"}},\"type\":\"scatterpolargl\"}],\"scatterternary\":[{\"marker\":{\"colorbar\":{\"outlinewidth\":0,\"ticks\":\"\"}},\"type\":\"scatterternary\"}],\"surface\":[{\"colorbar\":{\"outlinewidth\":0,\"ticks\":\"\"},\"colorscale\":[[0.0,\"#0d0887\"],[0.1111111111111111,\"#46039f\"],[0.2222222222222222,\"#7201a8\"],[0.3333333333333333,\"#9c179e\"],[0.4444444444444444,\"#bd3786\"],[0.5555555555555556,\"#d8576b\"],[0.6666666666666666,\"#ed7953\"],[0.7777777777777778,\"#fb9f3a\"],[0.8888888888888888,\"#fdca26\"],[1.0,\"#f0f921\"]],\"type\":\"surface\"}],\"table\":[{\"cells\":{\"fill\":{\"color\":\"#EBF0F8\"},\"line\":{\"color\":\"white\"}},\"header\":{\"fill\":{\"color\":\"#C8D4E3\"},\"line\":{\"color\":\"white\"}},\"type\":\"table\"}]},\"layout\":{\"annotationdefaults\":{\"arrowcolor\":\"#2a3f5f\",\"arrowhead\":0,\"arrowwidth\":1},\"autotypenumbers\":\"strict\",\"coloraxis\":{\"colorbar\":{\"outlinewidth\":0,\"ticks\":\"\"}},\"colorscale\":{\"diverging\":[[0,\"#8e0152\"],[0.1,\"#c51b7d\"],[0.2,\"#de77ae\"],[0.3,\"#f1b6da\"],[0.4,\"#fde0ef\"],[0.5,\"#f7f7f7\"],[0.6,\"#e6f5d0\"],[0.7,\"#b8e186\"],[0.8,\"#7fbc41\"],[0.9,\"#4d9221\"],[1,\"#276419\"]],\"sequential\":[[0.0,\"#0d0887\"],[0.1111111111111111,\"#46039f\"],[0.2222222222222222,\"#7201a8\"],[0.3333333333333333,\"#9c179e\"],[0.4444444444444444,\"#bd3786\"],[0.5555555555555556,\"#d8576b\"],[0.6666666666666666,\"#ed7953\"],[0.7777777777777778,\"#fb9f3a\"],[0.8888888888888888,\"#fdca26\"],[1.0,\"#f0f921\"]],\"sequentialminus\":[[0.0,\"#0d0887\"],[0.1111111111111111,\"#46039f\"],[0.2222222222222222,\"#7201a8\"],[0.3333333333333333,\"#9c179e\"],[0.4444444444444444,\"#bd3786\"],[0.5555555555555556,\"#d8576b\"],[0.6666666666666666,\"#ed7953\"],[0.7777777777777778,\"#fb9f3a\"],[0.8888888888888888,\"#fdca26\"],[1.0,\"#f0f921\"]]},\"colorway\":[\"#636efa\",\"#EF553B\",\"#00cc96\",\"#ab63fa\",\"#FFA15A\",\"#19d3f3\",\"#FF6692\",\"#B6E880\",\"#FF97FF\",\"#FECB52\"],\"font\":{\"color\":\"#2a3f5f\"},\"geo\":{\"bgcolor\":\"white\",\"lakecolor\":\"white\",\"landcolor\":\"#E5ECF6\",\"showlakes\":true,\"showland\":true,\"subunitcolor\":\"white\"},\"hoverlabel\":{\"align\":\"left\"},\"hovermode\":\"closest\",\"mapbox\":{\"style\":\"light\"},\"paper_bgcolor\":\"white\",\"plot_bgcolor\":\"#E5ECF6\",\"polar\":{\"angularaxis\":{\"gridcolor\":\"white\",\"linecolor\":\"white\",\"ticks\":\"\"},\"bgcolor\":\"#E5ECF6\",\"radialaxis\":{\"gridcolor\":\"white\",\"linecolor\":\"white\",\"ticks\":\"\"}},\"scene\":{\"xaxis\":{\"backgroundcolor\":\"#E5ECF6\",\"gridcolor\":\"white\",\"gridwidth\":2,\"linecolor\":\"white\",\"showbackground\":true,\"ticks\":\"\",\"zerolinecolor\":\"white\"},\"yaxis\":{\"backgroundcolor\":\"#E5ECF6\",\"gridcolor\":\"white\",\"gridwidth\":2,\"linecolor\":\"white\",\"showbackground\":true,\"ticks\":\"\",\"zerolinecolor\":\"white\"},\"zaxis\":{\"backgroundcolor\":\"#E5ECF6\",\"gridcolor\":\"white\",\"gridwidth\":2,\"linecolor\":\"white\",\"showbackground\":true,\"ticks\":\"\",\"zerolinecolor\":\"white\"}},\"shapedefaults\":{\"line\":{\"color\":\"#2a3f5f\"}},\"ternary\":{\"aaxis\":{\"gridcolor\":\"white\",\"linecolor\":\"white\",\"ticks\":\"\"},\"baxis\":{\"gridcolor\":\"white\",\"linecolor\":\"white\",\"ticks\":\"\"},\"bgcolor\":\"#E5ECF6\",\"caxis\":{\"gridcolor\":\"white\",\"linecolor\":\"white\",\"ticks\":\"\"}},\"title\":{\"x\":0.05},\"xaxis\":{\"automargin\":true,\"gridcolor\":\"white\",\"linecolor\":\"white\",\"ticks\":\"\",\"title\":{\"standoff\":15},\"zerolinecolor\":\"white\",\"zerolinewidth\":2},\"yaxis\":{\"automargin\":true,\"gridcolor\":\"white\",\"linecolor\":\"white\",\"ticks\":\"\",\"title\":{\"standoff\":15},\"zerolinecolor\":\"white\",\"zerolinewidth\":2}}},\"xaxis\":{\"anchor\":\"y\",\"domain\":[0.0,1.0],\"title\":{\"text\":\"Fraud Scenario\"}},\"yaxis\":{\"anchor\":\"x\",\"domain\":[0.0,1.0],\"title\":{\"text\":\"Average Transaction Amount\"}},\"legend\":{\"tracegroupgap\":0},\"margin\":{\"t\":60},\"barmode\":\"relative\"},                        {\"responsive\": true}                    ).then(function(){\n",
              "                            \n",
              "var gd = document.getElementById('0e76c5ec-f328-4497-87e2-3ab0b199a4be');\n",
              "var x = new MutationObserver(function (mutations, observer) {{\n",
              "        var display = window.getComputedStyle(gd).display;\n",
              "        if (!display || display === 'none') {{\n",
              "            console.log([gd, 'removed!']);\n",
              "            Plotly.purge(gd);\n",
              "            observer.disconnect();\n",
              "        }}\n",
              "}});\n",
              "\n",
              "// Listen for the removal of the full notebook cells\n",
              "var notebookContainer = gd.closest('#notebook-container');\n",
              "if (notebookContainer) {{\n",
              "    x.observe(notebookContainer, {childList: true});\n",
              "}}\n",
              "\n",
              "// Listen for the clearing of the current output cell\n",
              "var outputEl = gd.closest('.output');\n",
              "if (outputEl) {{\n",
              "    x.observe(outputEl, {childList: true});\n",
              "}}\n",
              "\n",
              "                        })                };                            </script>        </div>\n",
              "</body>\n",
              "</html>"
            ]
          },
          "metadata": {}
        }
      ]
    },
    {
      "cell_type": "markdown",
      "source": [
        "This bar chart represents the fraud scenario and the corresponding average transaction amount. Although type 1 of fraud scenario had the highest number of transactions , but it has an average amount of transaction. And although type 3 of fraud scenario had the least number of transactions , but it has the highest amount of transaction."
      ],
      "metadata": {
        "id": "EPOvO4ZWM-Q5"
      }
    },
    {
      "cell_type": "markdown",
      "source": [
        "# **Data** **Manipulation**"
      ],
      "metadata": {
        "id": "0e7G6Iqtjf9i"
      }
    },
    {
      "cell_type": "markdown",
      "source": [
        "# **Balancing** **Data**"
      ],
      "metadata": {
        "id": "plXItaj0jf5I"
      }
    },
    {
      "cell_type": "code",
      "source": [
        "df = pd.read_csv(r'Final Transactions.csv')\n",
        "\n",
        "df = df.drop(df.index[0])\n",
        "\n",
        "fraud = df[df['TX_FRAUD'] == 1]\n",
        "\n",
        "non_fraud = df[df['TX_FRAUD'] == 0]\n",
        "\n",
        "n_non_fraud = len(non_fraud)\n",
        "\n",
        "fraud_upsampled = fraud.sample(n_non_fraud, replace=True)\n",
        "\n",
        "df_upsampled = pd.concat([fraud_upsampled, non_fraud])\n",
        "\n",
        "df = df_upsampled.sample(frac=1, random_state=42).reset_index(drop=True)\n",
        "\n",
        "df.to_csv('cleaned_transactions.csv', index=False)"
      ],
      "metadata": {
        "id": "UM1YAH35jBee"
      },
      "execution_count": 16,
      "outputs": []
    },
    {
      "cell_type": "code",
      "source": [
        "df = df_upsampled\n",
        "count1 = 0 \n",
        "count0 = 0\n",
        "for i in df['TX_FRAUD'].values:\n",
        "    if i == 1:\n",
        "        count1 += 1\n",
        "    else:\n",
        "        count0 += 1\n",
        "        \n",
        "count1 = (count1/len(df['TX_FRAUD']))*100\n",
        "count0 = (count0/len(df['TX_FRAUD']))*100\n",
        "\n",
        "x = ['Fraudulent Transaction(TARGET=1)','Legitimate Transaction(TARGET=0)']\n",
        "y = [count1, count0]\n",
        "\n",
        "fig1, ax1 = plt.subplots()\n",
        "ax1.pie(y, labels=x, autopct='%1.1f%%',\n",
        "        shadow=True, startangle=110)\n",
        "ax1.axis('equal')  # Equal aspect ratio ensures that pie is drawn as a circle.\n",
        "plt.title('Data imbalance',fontsize=25)\n",
        "plt.show()"
      ],
      "metadata": {
        "colab": {
          "base_uri": "https://localhost:8080/",
          "height": 273
        },
        "id": "H7m9ngbojBj6",
        "outputId": "53d54d43-c724-48cf-e4aa-baa3877cc222"
      },
      "execution_count": 17,
      "outputs": [
        {
          "output_type": "display_data",
          "data": {
            "text/plain": [
              "<Figure size 432x288 with 1 Axes>"
            ],
            "image/png": "[encoded data removed]"
          },
          "metadata": {}
        }
      ]
    },
    {
      "cell_type": "code",
      "source": [
        "import seaborn as sns\n",
        "\n",
        "fig, ax = plt.subplots(figsize = (10,10))\n",
        "ax = sns.heatmap(df.corr(), annot = True, linewidths = 2, cmap = \"YlGnBu\")"
      ],
      "metadata": {
        "colab": {
          "base_uri": "https://localhost:8080/",
          "height": 694
        },
        "id": "u8ScQg93jBmf",
        "outputId": "673e2bfb-19d6-4a41-ed07-f8ed0228b23f"
      },
      "execution_count": 18,
      "outputs": [
        {
          "output_type": "display_data",
          "data": {
            "text/plain": [
              "<Figure size 720x720 with 2 Axes>"
            ],
            "image/png": "[encoded data removed]"
          },
          "metadata": {
            "needs_background": "light"
          }
        }
      ]
    },
    {
      "cell_type": "markdown",
      "source": [
        "* The previously seaborn plot shows that the ['TX_AMOUNT'] ,['TX_TIME_SECONDS'], ['TX_TIME_DAYS'] features have highest number that causes fraud when related to fraud column while the rest features have lower values. Therefore feature selection will be done because most of the features represented in the dataset will not be needed as they wouldn't be enough to specify a fraud transaction."
      ],
      "metadata": {
        "id": "nxUvkvOuVpeW"
      }
    },
    {
      "cell_type": "markdown",
      "source": [
        "# **Feature** **Extraction**"
      ],
      "metadata": {
        "id": "l370oIbVjuEW"
      }
    },
    {
      "cell_type": "code",
      "source": [
        "df = pd.read_csv('Final Transactions.csv')\n",
        "\n",
        "df_features = df.drop(['TRANSACTION_ID', 'TX_FRAUD','TX_DATETIME','Unnamed: 0','CUSTOMER_ID','TERMINAL_ID','TX_FRAUD_SCENARIO'], axis=1)\n",
        "\n",
        "print(df_features.head())"
      ],
      "metadata": {
        "colab": {
          "base_uri": "https://localhost:8080/"
        },
        "id": "nBNcqLMHjBpI",
        "outputId": "b70b96f1-4874-4ddf-f905-268318bdd93f"
      },
      "execution_count": 19,
      "outputs": [
        {
          "output_type": "stream",
          "name": "stdout",
          "text": [
            "   TX_AMOUNT  TX_TIME_SECONDS  TX_TIME_DAYS\n",
            "0     533.07               31             0\n",
            "1     808.56              130             0\n",
            "2    1442.94              476             0\n",
            "3     620.65              569             0\n",
            "4     490.66              634             0\n"
          ]
        }
      ]
    },
    {
      "cell_type": "markdown",
      "source": [
        "* Dropping the rest features because they can't specify properly if a fraudulent transaction had occured or not and therefore they are not needed\n",
        "* Dropping ['TX_FRAUD'] because it will be considered as a target (y) not as a feature"
      ],
      "metadata": {
        "id": "shn8EoUEQCJl"
      }
    },
    {
      "cell_type": "markdown",
      "source": [
        "# **Standardizing** **Data**"
      ],
      "metadata": {
        "id": "rnaSeaIIjzkB"
      }
    },
    {
      "cell_type": "code",
      "source": [
        "from sklearn.preprocessing import StandardScaler\n",
        "\n",
        "scaler = StandardScaler()\n",
        "\n",
        "standardized_features = scaler.fit_transform(df_features)"
      ],
      "metadata": {
        "id": "rkd3g041jBrv"
      },
      "execution_count": 20,
      "outputs": []
    },
    {
      "cell_type": "markdown",
      "source": [
        "# **Modeling**"
      ],
      "metadata": {
        "id": "dYpYzxyaj2ZG"
      }
    },
    {
      "cell_type": "markdown",
      "source": [
        "# **Selecting** **Model**"
      ],
      "metadata": {
        "id": "XqD_xUs6j4uZ"
      }
    },
    {
      "cell_type": "code",
      "source": [
        "from sklearn.model_selection import train_test_split\n",
        "df = pd.read_csv(r'Final Transactions.csv')\n",
        "X = standardized_features\n",
        "y = df[\"TX_FRAUD\"]\n",
        "X_train, X_test, y_train, y_test = train_test_split(X, y, test_size=0.2, random_state=11,shuffle = True)"
      ],
      "metadata": {
        "id": "p7dna_NajBuU"
      },
      "execution_count": 21,
      "outputs": []
    },
    {
      "cell_type": "code",
      "source": [
        "from sklearn.linear_model import LogisticRegression\n",
        "from sklearn.tree import DecisionTreeClassifier\n",
        "from sklearn.metrics import accuracy_score\n",
        "\n",
        "models = {\"Logistic Regression\": LogisticRegression(),\n",
        "          \"Decision Tree\": DecisionTreeClassifier()}\n",
        "\n",
        "for name, model in models.items():\n",
        "    model.fit(X_train, y_train)\n",
        "    y_pred = model.predict(X_test)\n",
        "    acc = accuracy_score(y_test, y_pred)\n",
        "    print(f\"{name} accuracy: {acc:.3f}\")"
      ],
      "metadata": {
        "colab": {
          "base_uri": "https://localhost:8080/"
        },
        "id": "4KQA90PU8N4E",
        "outputId": "25fcdb6a-6e65-4468-96fe-df627894d120"
      },
      "execution_count": 22,
      "outputs": [
        {
          "output_type": "stream",
          "name": "stdout",
          "text": [
            "Logistic Regression accuracy: 0.994\n",
            "Decision Tree accuracy: 0.991\n"
          ]
        }
      ]
    },
    {
      "cell_type": "markdown",
      "source": [
        "This process shows that logistic regression's accuracy is a bit higher that decision tree's accuracy but will be proving it the next steps"
      ],
      "metadata": {
        "id": "FU-4P7_qS7wa"
      }
    },
    {
      "cell_type": "markdown",
      "source": [
        "# **Logistic** **Regression**"
      ],
      "metadata": {
        "id": "NXYltVEZkIOI"
      }
    },
    {
      "cell_type": "code",
      "source": [
        "from sklearn.linear_model import LogisticRegression\n",
        "\n",
        "model = LogisticRegression()\n",
        "\n",
        "model.fit(X_train, y_train)\n",
        "\n",
        "LogisticRegression()\n",
        "\n",
        "test_predict = model.predict(X_test)\n",
        "test_predict"
      ],
      "metadata": {
        "colab": {
          "base_uri": "https://localhost:8080/"
        },
        "id": "StEZhg9fjBw_",
        "outputId": "e4005fc4-e804-482c-e6af-467c695c0738"
      },
      "execution_count": 22,
      "outputs": [
        {
          "output_type": "execute_result",
          "data": {
            "text/plain": [
              "array([0, 1, 1, ..., 0, 0, 0])"
            ]
          },
          "metadata": {},
          "execution_count": 22
        }
      ]
    },
    {
      "cell_type": "code",
      "source": [
        "from sklearn.metrics import accuracy_score\n",
        "accuracy_score(y_test, test_predict) * 100"
      ],
      "metadata": {
        "colab": {
          "base_uri": "https://localhost:8080/"
        },
        "id": "-IBx-aM6jBzz",
        "outputId": "b2bb5073-9228-4048-c560-9953048e1d76"
      },
      "execution_count": 24,
      "outputs": [
        {
          "output_type": "execute_result",
          "data": {
            "text/plain": [
              "99.42108878633871"
            ]
          },
          "metadata": {},
          "execution_count": 24
        }
      ]
    },
    {
      "cell_type": "markdown",
      "source": [
        "# **Decision** **Tree**"
      ],
      "metadata": {
        "id": "LCJ_QpFo0bAw"
      }
    },
    {
      "cell_type": "code",
      "source": [
        "from sklearn.tree import DecisionTreeClassifier\n",
        "from sklearn.model_selection import GridSearchCV\n",
        "dt_clf = DecisionTreeClassifier()\n",
        "\n",
        "param_grid = {\n",
        "    'max_depth': [5, 10, 20, None],\n",
        "    'min_samples_split': [2, 5, 10, 20],\n",
        "    'min_samples_leaf': [1, 2, 5, 10]\n",
        "}\n",
        "\n",
        "grid_search = GridSearchCV(dt_clf, param_grid, cv=5, scoring='f1_macro')\n",
        "grid_search.fit(X_test, y_test)\n",
        "\n",
        "print(\"Best hyperparameters: \", grid_search.best_params_)"
      ],
      "metadata": {
        "colab": {
          "base_uri": "https://localhost:8080/"
        },
        "id": "rE7Kv-Pf0dLh",
        "outputId": "a541bf0d-68fa-47b8-a102-23e67c09a0e1"
      },
      "execution_count": 25,
      "outputs": [
        {
          "output_type": "stream",
          "name": "stdout",
          "text": [
            "Best hyperparameters:  {'max_depth': 5, 'min_samples_leaf': 2, 'min_samples_split': 2}\n"
          ]
        }
      ]
    },
    {
      "cell_type": "code",
      "source": [
        "from sklearn.metrics import confusion_matrix\n",
        "model = DecisionTreeClassifier(max_depth= None, min_samples_leaf=1,min_samples_split=2)\n",
        "model.fit(X_train, y_train)\n",
        "\n",
        "y_pred_DTC = model.predict(X_test)\n",
        "\n",
        "acc = accuracy_score(y_test, y_pred_DTC)\n",
        "cm_DTC = confusion_matrix(y_test, y_pred_DTC)\n",
        "print(\"Decision Tree Classifier:\")\n",
        "print(\"Accuracy:\", acc)\n",
        "print(\"Confusion Matrix:\\n\", cm_DTC)\n"
      ],
      "metadata": {
        "colab": {
          "base_uri": "https://localhost:8080/"
        },
        "id": "KhOhK0gW0d2K",
        "outputId": "106dbdf5-f1f9-43b0-8355-b6bf874ed364"
      },
      "execution_count": 26,
      "outputs": [
        {
          "output_type": "stream",
          "name": "stdout",
          "text": [
            "Decision Tree Classifier:\n",
            "Accuracy: 0.9905139511616704\n",
            "Confusion Matrix:\n",
            " [[301851   1710]\n",
            " [  1618  45652]]\n"
          ]
        }
      ]
    },
    {
      "cell_type": "markdown",
      "source": [
        "# **Evaluation of Decision Tree**"
      ],
      "metadata": {
        "id": "_TqbG6FF-iUE"
      }
    },
    {
      "cell_type": "code",
      "source": [
        "cm_sns_DTC = sns.heatmap(cm_DTC,annot=True,fmt='.1f')\n",
        "cm_sns_DTC.set_title('Confusion Matrix: Decision Tree Classifier')"
      ],
      "metadata": {
        "colab": {
          "base_uri": "https://localhost:8080/",
          "height": 299
        },
        "id": "k3TaeT2A-Zms",
        "outputId": "2ee5220d-40a0-4947-a4cc-9a0192d35715"
      },
      "execution_count": 27,
      "outputs": [
        {
          "output_type": "execute_result",
          "data": {
            "text/plain": [
              "Text(0.5, 1.0, 'Confusion Matrix: Decision Tree Classifier')"
            ]
          },
          "metadata": {},
          "execution_count": 27
        },
        {
          "output_type": "display_data",
          "data": {
            "text/plain": [
              "<Figure size 432x288 with 2 Axes>"
            ],
            "image/png": "[encoded data removed]"
          },
          "metadata": {
            "needs_background": "light"
          }
        }
      ]
    },
    {
      "cell_type": "code",
      "source": [
        "from sklearn.metrics import precision_score, recall_score, f1_score\n",
        "precision_DTC = precision_score(y_test, y_pred_DTC)\n",
        "recall_DTC = recall_score(y_test, y_pred_DTC)\n",
        "f1_DTC = f1_score(y_test, y_pred_DTC)\n",
        "print(\"Decision Tree Classifier:\")\n",
        "print(\"Precision: \", precision_DTC)\n",
        "print(\"Recall: \", recall_DTC)\n",
        "print(\"F1-Score: \", f1_DTC)"
      ],
      "metadata": {
        "colab": {
          "base_uri": "https://localhost:8080/"
        },
        "id": "AX95wnlQ-Zgf",
        "outputId": "2357b5e1-c5da-4c9b-d5df-1fa728bdf2cc"
      },
      "execution_count": 28,
      "outputs": [
        {
          "output_type": "stream",
          "name": "stdout",
          "text": [
            "Decision Tree Classifier:\n",
            "Precision:  0.9638951057810059\n",
            "Recall:  0.9657711021789719\n",
            "F1-Score:  0.9648321920703357\n"
          ]
        }
      ]
    },
    {
      "cell_type": "code",
      "source": [
        "from sklearn.metrics import average_precision_score\n",
        "average_precision = average_precision_score(y_test, y_pred_DTC)\n",
        "\n",
        "print(\"Average precision-recall score: {:.2f}\".format(average_precision))"
      ],
      "metadata": {
        "colab": {
          "base_uri": "https://localhost:8080/"
        },
        "id": "7FIeD165-Zan",
        "outputId": "474170e4-45f8-4493-9cb1-ce84ab19c29f"
      },
      "execution_count": 29,
      "outputs": [
        {
          "output_type": "stream",
          "name": "stdout",
          "text": [
            "Average precision-recall score: 0.94\n"
          ]
        }
      ]
    },
    {
      "cell_type": "markdown",
      "source": [
        "* Decision Tree shows poor accuracy due to :  \n",
        "\n",
        "1.   large dataset\n",
        "2.   more than one feature\n",
        "3.   large number of splits\n",
        "\n",
        "which results in longer time in training and test plus poor accuracy when compared to logistic regression.\n"
      ],
      "metadata": {
        "id": "_4Z1lZBWT3Jn"
      }
    },
    {
      "cell_type": "markdown",
      "source": [
        "# **ANN**"
      ],
      "metadata": {
        "id": "qpe4rC8-sct0"
      }
    },
    {
      "cell_type": "code",
      "source": [
        "ann = tf.keras.models.Sequential()\n",
        "ann.add(tf.keras.layers.Dense(units=16, activation='relu'))\n",
        "ann.add(tf.keras.layers.Dense(units=8, activation='relu'))\n",
        "ann.add(tf.keras.layers.Dense(units=1, activation='sigmoid'))\n",
        "ann.compile(optimizer = 'adam', loss = 'binary_crossentropy', metrics = ['accuracy'])\n",
        "ann.fit(X_train, y_train, batch_size = 32, epochs = 10)"
      ],
      "metadata": {
        "colab": {
          "base_uri": "https://localhost:8080/"
        },
        "id": "8buJwZhgscTr",
        "outputId": "842c434d-c47d-4163-a8e0-8a9dbe051508"
      },
      "execution_count": 30,
      "outputs": [
        {
          "output_type": "stream",
          "name": "stdout",
          "text": [
            "Epoch 1/10\n",
            "43854/43854 [==============================] - 83s 2ms/step - loss: 0.0407 - accuracy: 0.9916\n",
            "Epoch 2/10\n",
            "43854/43854 [==============================] - 75s 2ms/step - loss: 0.0324 - accuracy: 0.9939\n",
            "Epoch 3/10\n",
            "43854/43854 [==============================] - 76s 2ms/step - loss: 0.0322 - accuracy: 0.9940\n",
            "Epoch 4/10\n",
            "43854/43854 [==============================] - 74s 2ms/step - loss: 0.0320 - accuracy: 0.9941\n",
            "Epoch 5/10\n",
            "43854/43854 [==============================] - 74s 2ms/step - loss: 0.0319 - accuracy: 0.9941\n",
            "Epoch 6/10\n",
            "43854/43854 [==============================] - 74s 2ms/step - loss: 0.0317 - accuracy: 0.9942\n",
            "Epoch 7/10\n",
            "43854/43854 [==============================] - 75s 2ms/step - loss: 0.0316 - accuracy: 0.9943\n",
            "Epoch 8/10\n",
            "43854/43854 [==============================] - 74s 2ms/step - loss: 0.0315 - accuracy: 0.9943\n",
            "Epoch 9/10\n",
            "43854/43854 [==============================] - 75s 2ms/step - loss: 0.0315 - accuracy: 0.9943\n",
            "Epoch 10/10\n",
            "43854/43854 [==============================] - 74s 2ms/step - loss: 0.0314 - accuracy: 0.9943\n"
          ]
        },
        {
          "output_type": "execute_result",
          "data": {
            "text/plain": [
              "<keras.callbacks.History at 0x7efd2bff4a90>"
            ]
          },
          "metadata": {},
          "execution_count": 30
        }
      ]
    },
    {
      "cell_type": "code",
      "source": [
        "y_ann=ann.predict(X_test)\n",
        "A=[]\n",
        "for y in y_ann:\n",
        "    if y>0.5:\n",
        "        A.append(1)\n",
        "    else:\n",
        "        A.append(0)"
      ],
      "metadata": {
        "colab": {
          "base_uri": "https://localhost:8080/"
        },
        "id": "P432nMKIjB_O",
        "outputId": "fc298e46-14ed-4c9f-f40e-911770831f6a"
      },
      "execution_count": 31,
      "outputs": [
        {
          "output_type": "stream",
          "name": "stdout",
          "text": [
            "10964/10964 [==============================] - 13s 1ms/step\n"
          ]
        }
      ]
    },
    {
      "cell_type": "code",
      "source": [
        "from sklearn.metrics import confusion_matrix\n",
        "c=confusion_matrix(y_test,A)\n",
        "print(c)"
      ],
      "metadata": {
        "colab": {
          "base_uri": "https://localhost:8080/"
        },
        "id": "-Op7meWTyvk3",
        "outputId": "9d51da96-4281-485a-e9d1-61763b64162e"
      },
      "execution_count": 32,
      "outputs": [
        {
          "output_type": "stream",
          "name": "stdout",
          "text": [
            "[[303561      0]\n",
            " [  2077  45193]]\n"
          ]
        }
      ]
    },
    {
      "cell_type": "code",
      "source": [
        "from sklearn.metrics import accuracy_score\n",
        "a=accuracy_score(y_test,A)*100\n",
        "print(\"test accuracy\",a)"
      ],
      "metadata": {
        "colab": {
          "base_uri": "https://localhost:8080/"
        },
        "id": "U1N0hUv0yvak",
        "outputId": "8e2093b9-1af3-4e4a-c88e-78e2dd9b386a"
      },
      "execution_count": 33,
      "outputs": [
        {
          "output_type": "stream",
          "name": "stdout",
          "text": [
            "test accuracy 99.40797706017997\n"
          ]
        }
      ]
    },
    {
      "cell_type": "code",
      "source": [
        "import seaborn as sns\n",
        "cmap1 = sns.diverging_palette(275,150,  s=40, l=65, n=6)\n",
        "plt.subplots(figsize=(12,8))\n",
        "cf_matrix = confusion_matrix(y_test, A)\n",
        "sns.heatmap(cf_matrix/np.sum(cf_matrix), cmap = cmap1, annot = True, annot_kws = {'size':15})"
      ],
      "metadata": {
        "colab": {
          "base_uri": "https://localhost:8080/",
          "height": 501
        },
        "id": "TtJsnRMijCCN",
        "outputId": "b5b19cb0-ac47-43ba-eb28-faba8ce6a950"
      },
      "execution_count": 34,
      "outputs": [
        {
          "output_type": "execute_result",
          "data": {
            "text/plain": [
              "<matplotlib.axes._subplots.AxesSubplot at 0x7efd2c7f0520>"
            ]
          },
          "metadata": {},
          "execution_count": 34
        },
        {
          "output_type": "display_data",
          "data": {
            "text/plain": [
              "<Figure size 864x576 with 2 Axes>"
            ],
            "image/png": "[encoded data removed]"
          },
          "metadata": {
            "needs_background": "light"
          }
        }
      ]
    },
    {
      "cell_type": "code",
      "source": [
        "from sklearn.metrics import classification_report\n",
        "print(classification_report(y_test, A))\n"
      ],
      "metadata": {
        "colab": {
          "base_uri": "https://localhost:8080/"
        },
        "id": "K-t8O5DQjCE9",
        "outputId": "0533796b-547b-4b49-f682-f1cdbfef9f7b"
      },
      "execution_count": 35,
      "outputs": [
        {
          "output_type": "stream",
          "name": "stdout",
          "text": [
            "              precision    recall  f1-score   support\n",
            "\n",
            "           0       0.99      1.00      1.00    303561\n",
            "           1       1.00      0.96      0.98     47270\n",
            "\n",
            "    accuracy                           0.99    350831\n",
            "   macro avg       1.00      0.98      0.99    350831\n",
            "weighted avg       0.99      0.99      0.99    350831\n",
            "\n"
          ]
        }
      ]
    },
    {
      "cell_type": "markdown",
      "source": [
        "* I have also tried artifical neural network to deal with this dataset other than any type of machine learning but the accuracy of this deep learning model 99.407% is the same as logistic regression machine learning model 99.42%\n",
        "\n",
        "* order from the highest accuracy to the lowest :\n",
        "1.   Logistic Regression\n",
        "2.   Artificial Neural Network\n",
        "3.   Decision Tree\n",
        "\n",
        "* if i had more time working on this project, i could have also tried random forest and K-Nearest Neighbor and see if they would make any difference.\n",
        "\n",
        "* I think that dropping most of features had an impact on the loss of the dataset though the accuracy of the model was high.\n",
        "\n",
        "\n"
      ],
      "metadata": {
        "id": "wIaSkro4aCKm"
      }
    }
  ]
}